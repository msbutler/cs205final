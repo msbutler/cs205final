{
 "cells": [
  {
   "cell_type": "code",
   "execution_count": 2,
   "id": "fe20153b",
   "metadata": {},
   "outputs": [],
   "source": [
    "import os\n",
    "from utils import compress_im"
   ]
  },
  {
   "cell_type": "code",
   "execution_count": 3,
   "id": "c128f28b",
   "metadata": {},
   "outputs": [
    {
     "name": "stdout",
     "output_type": "stream",
     "text": [
      "compress imgs in ../Train\n",
      "compress imgs in ../Train/Labeled\n",
      "compress imgs in ../Train/Labeled/Non-Flooded\n",
      "compress imgs in ../Train/Labeled/Non-Flooded/image\n",
      "compress imgs in ../Train/Unlabeled\n",
      "compress imgs in ../Train/Unlabeled/image\n"
     ]
    }
   ],
   "source": [
    "compress_im(\"../Train\",1000)"
   ]
  },
  {
   "cell_type": "code",
   "execution_count": 8,
   "id": "056a6e3e",
   "metadata": {},
   "outputs": [
    {
     "name": "stdout",
     "output_type": "stream",
     "text": [
      "../Train3/Labeled/Flooded/image\n"
     ]
    }
   ],
   "source": [
    "# For moving all img files from one root dir to another\n",
    "source = \"../Train3\"\n",
    "dest = \"../Train1\"\n",
    "\n",
    "label_flood_dir = os.path.join('Labeled','Flooded','image')\n",
    "label_nonflood_dir = os.path.join('Labeled','Non-Flooded','image')\n",
    "unlabel_nonflood_dir = os.path.join('UnLabeled','image')\n",
    "\n",
    "for dire in label_flood_dir,label_nonflood_dir:\n",
    "    source_dir = os.path.join(source,dire)\n",
    "    dest_dir = os.path.join(dest,dire)\n",
    "    if os.path.isdir(source_dir):\n",
    "        for file in os.listdir(source_dir):\n",
    "            source_file = os.path.join(source_dir,file)\n",
    "            dest_file = os.path.join(dest_dir,file)\n",
    "            os.rename(source_file,dest_file)\n",
    "    else:\n",
    "        print(source_dir)"
   ]
  },
  {
   "cell_type": "code",
   "execution_count": null,
   "id": "46c96076",
   "metadata": {},
   "outputs": [],
   "source": []
  }
 ],
 "metadata": {
  "kernelspec": {
   "display_name": "Environment (conda_tensorflow_p37)",
   "language": "python",
   "name": "conda_tensorflow_p37"
  },
  "language_info": {
   "codemirror_mode": {
    "name": "ipython",
    "version": 3
   },
   "file_extension": ".py",
   "mimetype": "text/x-python",
   "name": "python",
   "nbconvert_exporter": "python",
   "pygments_lexer": "ipython3",
   "version": "3.7.10"
  }
 },
 "nbformat": 4,
 "nbformat_minor": 5
}
