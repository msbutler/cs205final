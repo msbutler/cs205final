{
 "cells": [
  {
   "cell_type": "code",
   "execution_count": 1,
   "id": "41e384c9",
   "metadata": {},
   "outputs": [
    {
     "name": "stdout",
     "output_type": "stream",
     "text": [
      "WARNING:tensorflow:From /home/ubuntu/anaconda3/envs/tensorflow_p37/gpu_cuda10.0/lib/python3.7/site-packages/tensorflow_core/__init__.py:1473: The name tf.estimator.inputs is deprecated. Please use tf.compat.v1.estimator.inputs instead.\n",
      "\n"
     ]
    }
   ],
   "source": [
    "import tensorflow as tf\n",
    "import matplotlib.pyplot as plt\n",
    "import numpy as np\n",
    "import scipy as sp\n",
    "\n",
    "from PIL import Image\n",
    "import os"
   ]
  },
  {
   "cell_type": "code",
   "execution_count": 2,
   "id": "fb37b036",
   "metadata": {},
   "outputs": [
    {
     "name": "stdout",
     "output_type": "stream",
     "text": [
      "WARNING:tensorflow:From /home/ubuntu/anaconda3/envs/tensorflow_p37/gpu_cuda10.0/lib/python3.7/site-packages/tensorflow_core/python/compat/v2_compat.py:68: disable_resource_variables (from tensorflow.python.ops.variable_scope) is deprecated and will be removed in a future version.\n",
      "Instructions for updating:\n",
      "non-resource variables are not supported in the long term\n"
     ]
    }
   ],
   "source": [
    "import tensorflow.compat.v1 as tf\n",
    "tf.disable_v2_behavior()\n",
    "config = tf.ConfigProto()\n",
    "config.gpu_options.allow_growth = True"
   ]
  },
  {
   "cell_type": "code",
   "execution_count": 3,
   "id": "6c544b5b",
   "metadata": {},
   "outputs": [],
   "source": [
    "# For moving all img files from one root dir to another\n",
    "# source = \"Train\"\n",
    "# dest = \"Train1\"\n",
    "\n",
    "# label_flood_dir = os.path.join('Labeled','Flooded','image')\n",
    "# label_nonflood_dir = os.path.join('Labeled','Non-Flooded','image')\n",
    "\n",
    "# for dire in label_flood_dir,label_nonflood_dir:\n",
    "#     source_dir = os.path.join(source,dire)\n",
    "#     dest_dir = os.path.join(dest,dire)\n",
    "#     for file in os.listdir(source_dir):\n",
    "#         source_file = os.path.join(source_dir,file)\n",
    "#         dest_file = os.path.join(dest_dir,file)\n",
    "#         os.rename(source_file,dest_file)"
   ]
  },
  {
   "cell_type": "markdown",
   "id": "0693809b",
   "metadata": {},
   "source": [
    "Should take around 3 minutes to load"
   ]
  },
  {
   "cell_type": "code",
   "execution_count": 4,
   "id": "9131c639",
   "metadata": {},
   "outputs": [
    {
     "name": "stdout",
     "output_type": "stream",
     "text": [
      "Loading Data from Memory\n",
      "Loaded!\n"
     ]
    }
   ],
   "source": [
    "h_dim = 1000\n",
    "v_dim = 750\n",
    "print(\"Loading Data from Memory\")\n",
    "\n",
    "root = \"Train\"\n",
    "label_flood_dir = os.path.join(root,'Labeled','Flooded','image')\n",
    "label_nonflood_dir = os.path.join(root,'Labeled','Non-Flooded','image')\n",
    "flooded_img = []\n",
    "nonflooded_img = []\n",
    "\n",
    "for file in os.listdir(label_flood_dir):\n",
    "    image = Image.open(os.path.join(label_flood_dir, file))\n",
    "    flooded_img.append(np.array(image.resize((h_dim,v_dim))))\n",
    "    \n",
    "for file in os.listdir(label_nonflood_dir):\n",
    "    image = Image.open(os.path.join(label_nonflood_dir, file))\n",
    "    nonflooded_img.append(np.array(image.resize((h_dim,v_dim))))\n",
    "print(\"Loaded!\")"
   ]
  },
  {
   "cell_type": "code",
   "execution_count": 5,
   "id": "d07e744e",
   "metadata": {},
   "outputs": [
    {
     "name": "stdout",
     "output_type": "stream",
     "text": [
      "(750, 1000, 3)\n"
     ]
    }
   ],
   "source": [
    "print(flooded_img[0].shape)"
   ]
  },
  {
   "cell_type": "code",
   "execution_count": 6,
   "id": "28345c69",
   "metadata": {},
   "outputs": [
    {
     "name": "stdout",
     "output_type": "stream",
     "text": [
      "Flooded Image Shape: (750, 1000, 3)\n",
      "Non_Flooded Image Shape: (750, 1000, 3)\n"
     ]
    }
   ],
   "source": [
    "print(\"Flooded Image Shape: {}\".format(flooded_img[0].shape))\n",
    "print(\"Non_Flooded Image Shape: {}\".format(nonflooded_img[0].shape))"
   ]
  },
  {
   "cell_type": "code",
   "execution_count": 7,
   "id": "9c33d333",
   "metadata": {},
   "outputs": [
    {
     "data": {
      "text/plain": [
       "(397, 750, 1000, 3)"
      ]
     },
     "execution_count": 7,
     "metadata": {},
     "output_type": "execute_result"
    }
   ],
   "source": [
    "data_img = np.vstack((np.array(flooded_img), np.array(nonflooded_img))) / 255.\n",
    "data_img.shape"
   ]
  },
  {
   "cell_type": "code",
   "execution_count": 8,
   "id": "7e008626",
   "metadata": {},
   "outputs": [
    {
     "data": {
      "text/plain": [
       "1.0"
      ]
     },
     "execution_count": 8,
     "metadata": {},
     "output_type": "execute_result"
    }
   ],
   "source": [
    "data_img.max()"
   ]
  },
  {
   "cell_type": "code",
   "execution_count": 9,
   "id": "8c18d75a",
   "metadata": {},
   "outputs": [
    {
     "data": {
      "text/plain": [
       "0.0"
      ]
     },
     "execution_count": 9,
     "metadata": {},
     "output_type": "execute_result"
    }
   ],
   "source": [
    "data_img.min()"
   ]
  },
  {
   "cell_type": "code",
   "execution_count": 10,
   "id": "0530a4ca",
   "metadata": {},
   "outputs": [
    {
     "data": {
      "text/plain": [
       "(51, 750, 1000, 3)"
      ]
     },
     "execution_count": 10,
     "metadata": {},
     "output_type": "execute_result"
    }
   ],
   "source": [
    "np.array(flooded_img).shape"
   ]
  },
  {
   "cell_type": "code",
   "execution_count": 11,
   "id": "d0bfc14f",
   "metadata": {},
   "outputs": [
    {
     "name": "stdout",
     "output_type": "stream",
     "text": [
      "Training Index: [  1   2   3   5   6   7   8   9  11  12  14  15  16  21  22  25  26  27\n",
      "  28  29  30  31  32  33  34  35  36  37  38  39  40  41  43  44  45  46\n",
      "  47  48  49  50  51  59  63  93 108 113 114 115 120 126 127 129 130 135\n",
      " 141 155 158 159 167 178 187 206 217 219 230 231 232 237 284 293 295 309\n",
      " 322 324 328 333 351 356 374 385]\n",
      "Testing Index: [  0   4  10  13  17  18  19  20  23  24  42 143 156 189 218 221 263 270\n",
      " 273 334 355 377]\n"
     ]
    }
   ],
   "source": [
    "import random\n",
    "test = False\n",
    "\n",
    "#n is number images from each class (flooded or non flooded)\n",
    "if test == True:\n",
    "    n = 20\n",
    "    #train_idx = np.array([np.arange(7),np.arange(10,17)]).flatten()\n",
    "    #test_idx = np.array([np.arange(7,10),np.arange(17,20)]).flatten()\n",
    "else:\n",
    "    n = min(len(flooded_img),len(nonflooded_img))\n",
    "\n",
    "'''split data 50 50'''\n",
    "def train_test_split(n):\n",
    "    idxs = list(range(n))\n",
    "    s = int(np.floor(0.8*n)) # number of images for training\n",
    "    \n",
    "    train_idx = []\n",
    "    test_idx = []\n",
    "    \n",
    "    #index range to select from (flooded img range, non flooded image range)\n",
    "    for s_i,e_i in [(0,len(flooded_img)),(len(flooded_img),len(data_img))]:\n",
    "        \n",
    "        #print(s_i,e_i,n,s)\n",
    "        #get all poss indexes for set\n",
    "        s_idx = list(range(s_i,e_i))\n",
    "        random.shuffle(s_idx)\n",
    "        \n",
    "        train_idx.extend(s_idx[:s])      #first s images are for training\n",
    "        test_idx.extend(s_idx[s:n])      # next n-s images are for testing. \n",
    "        #print(len(train_idx))\n",
    "    \n",
    "    train_idx = np.array(train_idx)\n",
    "    test_idx = np.array(test_idx)\n",
    "    train_idx.sort()\n",
    "    test_idx.sort()\n",
    "    \n",
    "    train_labels = [1 if x<len(flooded_img) else 0 for x in train_idx]\n",
    "    test_labels = [1 if x<len(flooded_img) else 0 for x in test_idx]\n",
    "\n",
    "    print(\"Training Index: {}\".format(train_idx))\n",
    "    print(\"Testing Index: {}\".format(test_idx))\n",
    "    return train_idx, test_idx, train_labels, test_labels\n",
    "\n",
    "train_idx, test_idx, train_labels, test_labels = train_test_split(n)\n"
   ]
  },
  {
   "cell_type": "code",
   "execution_count": 12,
   "id": "a53b5e8c",
   "metadata": {},
   "outputs": [],
   "source": [
    "# convolutional layer\n",
    "def conv_layer(x, shape):\n",
    "\n",
    "    weights = tf.Variable(tf.truncated_normal(shape, stddev=0.05))\n",
    "    bias = tf.Variable(tf.constant(0.05, shape=[shape[-1]]))\n",
    "\n",
    "    out = tf.nn.conv2d(input=x, filters=weights, strides=[1,1,1,1], padding='SAME')\n",
    "    out += bias\n",
    "    return out\n",
    "\n",
    "# pooling layer\n",
    "def max_pool(x, k=2):\n",
    "\n",
    "    out = tf.nn.max_pool(value=x, ksize=[1, k, k, 1], strides=[1, k, k, 1], padding='SAME')\n",
    "    return out\n",
    "\n",
    "# fully connected layer\n",
    "def fully_connected_layer(x, shape):\n",
    "\n",
    "    weights = tf.Variable(tf.truncated_normal(shape, stddev=0.05))\n",
    "    bias = tf.Variable(tf.constant(0.05, shape=[shape[1]]))\n",
    "\n",
    "    out = tf.matmul(a=x, b=weights)\n",
    "    out += bias\n",
    "    return out\n",
    "\n",
    "# flatten layer\n",
    "def flatten_layer(x):\n",
    "    \n",
    "    size = x.get_shape()[1:4].num_elements()\n",
    "    out = tf.reshape(x, [-1,size])\n",
    "    return out, size\n",
    "\n",
    "# relu\n",
    "relu = lambda x: tf.nn.relu(features=x)\n",
    "\n",
    "# softmax\n",
    "softmax = lambda x: tf.nn.softmax(logits=x)"
   ]
  },
  {
   "cell_type": "code",
   "execution_count": 13,
   "id": "59a5b5eb",
   "metadata": {},
   "outputs": [],
   "source": [
    "def toy_model(x):\n",
    "\n",
    "    # three convolutional layers with max pool\n",
    "    shape0 = [5, 5, 3, 3]\n",
    "    conv0 = conv_layer(x, shape0)\n",
    "    conv0 = max_pool(conv0, k=2)\n",
    "\n",
    "    shape1 = [5, 5, 3, 1]\n",
    "    conv1 = conv_layer(conv0, shape1)\n",
    "    conv1 = max_pool(conv1, k=2)\n",
    "\n",
    "    shape2 = [5, 5, 1, 1]\n",
    "    conv2 = conv_layer(conv1, shape2)\n",
    "    conv2 = max_pool(conv2, k=2)\n",
    "\n",
    "    # flatten output and put through a fully connected layer\n",
    "    flat1, size1 = flatten_layer(conv2)\n",
    "    fc1 = fully_connected_layer(flat1, [size1, 64])\n",
    "    fc1 = relu(fc1)\n",
    "\n",
    "    fc2 = fully_connected_layer(fc1, [64, 2])\n",
    "    out = softmax(fc2)\n",
    "\n",
    "    return out"
   ]
  },
  {
   "cell_type": "code",
   "execution_count": 20,
   "id": "30e0dcc7",
   "metadata": {},
   "outputs": [],
   "source": [
    "def sharpen(p):\n",
    "    T = 0.5\n",
    "    pred = p**(1./T)/(p**(1./T) + (1.-p)**(1./T))\n",
    "    return pred"
   ]
  },
  {
   "cell_type": "code",
   "execution_count": 27,
   "id": "83bd6df1",
   "metadata": {},
   "outputs": [
    {
     "name": "stdout",
     "output_type": "stream",
     "text": [
      "Tensor(\"truediv_4:0\", shape=(?, 2), dtype=float32)\n"
     ]
    }
   ],
   "source": [
    "# define inputs\n",
    "x = tf.placeholder(tf.float32, [None, v_dim, h_dim, 3])\n",
    "y = tf.placeholder(tf.float32, [None, 1])\n",
    "y_train_true = np.array(train_labels).reshape(-1,1)\n",
    "y_test_true = np.array(test_labels).reshape(-1,1)\n",
    "\n",
    "# run model with placeholder tensors\n",
    "pred = toy_model(x)\n",
    "\n",
    "# sharpen\n",
    "pred = sharpen(pred)\n",
    "\n",
    "# define loss\n",
    "cross_entropy = tf.nn.softmax_cross_entropy_with_logits(logits=pred, labels=y)\n",
    "cost = tf.reduce_mean(cross_entropy)\n",
    "\n",
    "# define accuracy\n",
    "pred_correct = tf.equal(tf.argmax(pred, 1), tf.argmax(y, 1))\n",
    "accuracy = tf.reduce_mean(tf.cast(pred_correct, tf.float32))\n",
    "\n",
    "# define optimizer\n",
    "optimizer = tf.train.AdamOptimizer(learning_rate=1e-3).minimize(cost)\n",
    "\n",
    "# initialize variables\n",
    "init = tf.global_variables_initializer()\n",
    "training_iters = 100\n",
    "batch_size = 10#len(train_idx)"
   ]
  },
  {
   "cell_type": "code",
   "execution_count": 28,
   "id": "f38f4b40",
   "metadata": {},
   "outputs": [
    {
     "name": "stdout",
     "output_type": "stream",
     "text": [
      "Iter 0, Loss= 0.703875, Training Accuracy= 0.48750, Testing Accuracy= 0.72727\n",
      "Iter 1, Loss= 0.693291, Training Accuracy= 0.65000, Testing Accuracy= 0.18182\n",
      "Iter 2, Loss= 0.693196, Training Accuracy= 0.30000, Testing Accuracy= 0.04545\n",
      "Iter 3, Loss= 0.693175, Training Accuracy= 0.60000, Testing Accuracy= 1.00000\n",
      "Iter 4, Loss= 0.693162, Training Accuracy= 0.45000, Testing Accuracy= 1.00000\n",
      "Iter 5, Loss= 0.693158, Training Accuracy= 0.47500, Testing Accuracy= 1.00000\n",
      "Iter 6, Loss= 0.693154, Training Accuracy= 0.45000, Testing Accuracy= 1.00000\n",
      "Iter 7, Loss= 0.693152, Training Accuracy= 0.46250, Testing Accuracy= 1.00000\n",
      "Iter 8, Loss= 0.693151, Training Accuracy= 0.47500, Testing Accuracy= 1.00000\n",
      "Iter 9, Loss= 0.693150, Training Accuracy= 0.50000, Testing Accuracy= 0.95455\n",
      "Iter 10, Loss= 0.693149, Training Accuracy= 0.48750, Testing Accuracy= 0.95455\n",
      "Iter 11, Loss= 0.693149, Training Accuracy= 0.50000, Testing Accuracy= 0.90909\n",
      "Iter 12, Loss= 0.693149, Training Accuracy= 0.46250, Testing Accuracy= 0.90909\n",
      "Iter 13, Loss= 0.693149, Training Accuracy= 0.48750, Testing Accuracy= 0.90909\n",
      "Iter 14, Loss= 0.693149, Training Accuracy= 0.48750, Testing Accuracy= 0.90909\n",
      "Iter 15, Loss= 0.693149, Training Accuracy= 0.47500, Testing Accuracy= 0.90909\n",
      "Iter 16, Loss= 0.693149, Training Accuracy= 0.48750, Testing Accuracy= 0.90909\n",
      "Iter 17, Loss= 0.693149, Training Accuracy= 0.51250, Testing Accuracy= 0.90909\n",
      "Iter 18, Loss= 0.693149, Training Accuracy= 0.51250, Testing Accuracy= 0.90909\n",
      "Iter 19, Loss= 0.693149, Training Accuracy= 0.51250, Testing Accuracy= 0.90909\n",
      "Iter 20, Loss= 0.693149, Training Accuracy= 0.51250, Testing Accuracy= 0.90909\n",
      "Iter 21, Loss= 0.693149, Training Accuracy= 0.51250, Testing Accuracy= 0.86364\n",
      "Iter 22, Loss= 0.693149, Training Accuracy= 0.50000, Testing Accuracy= 0.86364\n",
      "Iter 23, Loss= 0.693149, Training Accuracy= 0.50000, Testing Accuracy= 0.86364\n",
      "Iter 24, Loss= 0.693149, Training Accuracy= 0.50000, Testing Accuracy= 0.86364\n",
      "Iter 25, Loss= 0.693149, Training Accuracy= 0.50000, Testing Accuracy= 0.86364\n",
      "Iter 26, Loss= 0.693149, Training Accuracy= 0.51250, Testing Accuracy= 0.86364\n",
      "Iter 27, Loss= 0.693149, Training Accuracy= 0.52500, Testing Accuracy= 0.81818\n",
      "Iter 28, Loss= 0.693150, Training Accuracy= 0.51250, Testing Accuracy= 0.77273\n",
      "Iter 29, Loss= 0.693150, Training Accuracy= 0.51250, Testing Accuracy= 0.68182\n",
      "Iter 30, Loss= 0.693150, Training Accuracy= 0.52500, Testing Accuracy= 0.59091\n",
      "Iter 31, Loss= 0.693150, Training Accuracy= 0.51250, Testing Accuracy= 0.54545\n",
      "Iter 32, Loss= 0.693151, Training Accuracy= 0.50000, Testing Accuracy= 0.54545\n",
      "Iter 33, Loss= 0.693152, Training Accuracy= 0.45000, Testing Accuracy= 0.40909\n",
      "Iter 34, Loss= 0.693153, Training Accuracy= 0.37500, Testing Accuracy= 0.27273\n",
      "Iter 35, Loss= 0.693154, Training Accuracy= 0.37500, Testing Accuracy= 0.18182\n",
      "Iter 36, Loss= 0.693157, Training Accuracy= 0.42500, Testing Accuracy= 0.31818\n",
      "Iter 37, Loss= 0.693155, Training Accuracy= 0.56250, Testing Accuracy= 1.00000\n",
      "Iter 38, Loss= 0.693164, Training Accuracy= 0.45000, Testing Accuracy= 0.86364\n",
      "Iter 39, Loss= 0.693150, Training Accuracy= 0.50000, Testing Accuracy= 1.00000\n",
      "Iter 40, Loss= 0.693176, Training Accuracy= 0.37500, Testing Accuracy= 0.00000\n",
      "Iter 41, Loss= 0.693181, Training Accuracy= 0.75000, Testing Accuracy= 0.95455\n",
      "Iter 42, Loss= 0.693155, Training Accuracy= 0.47500, Testing Accuracy= 0.77273\n",
      "Iter 43, Loss= 0.693152, Training Accuracy= 0.36250, Testing Accuracy= 0.90909\n",
      "Iter 44, Loss= 0.693149, Training Accuracy= 0.45000, Testing Accuracy= 0.81818\n",
      "Iter 45, Loss= 0.693150, Training Accuracy= 0.53750, Testing Accuracy= 0.40909\n",
      "Iter 46, Loss= 0.693150, Training Accuracy= 0.46250, Testing Accuracy= 0.13636\n",
      "Iter 47, Loss= 0.693150, Training Accuracy= 0.47500, Testing Accuracy= 0.13636\n",
      "Iter 48, Loss= 0.693149, Training Accuracy= 0.53750, Testing Accuracy= 0.45455\n",
      "Iter 49, Loss= 0.693148, Training Accuracy= 0.52500, Testing Accuracy= 0.77273\n",
      "Iter 50, Loss= 0.693148, Training Accuracy= 0.56250, Testing Accuracy= 0.81818\n",
      "Iter 51, Loss= 0.693148, Training Accuracy= 0.53750, Testing Accuracy= 0.72727\n",
      "Iter 52, Loss= 0.693148, Training Accuracy= 0.45000, Testing Accuracy= 0.45455\n",
      "Iter 53, Loss= 0.693148, Training Accuracy= 0.47500, Testing Accuracy= 0.22727\n",
      "Iter 54, Loss= 0.693148, Training Accuracy= 0.45000, Testing Accuracy= 0.22727\n",
      "Iter 55, Loss= 0.693148, Training Accuracy= 0.53750, Testing Accuracy= 0.59091\n",
      "Iter 56, Loss= 0.693147, Training Accuracy= 0.51250, Testing Accuracy= 0.72727\n",
      "Iter 57, Loss= 0.693147, Training Accuracy= 0.56250, Testing Accuracy= 0.77273\n",
      "Iter 58, Loss= 0.693147, Training Accuracy= 0.57500, Testing Accuracy= 0.72727\n",
      "Iter 59, Loss= 0.693147, Training Accuracy= 0.52500, Testing Accuracy= 0.68182\n",
      "Iter 60, Loss= 0.693147, Training Accuracy= 0.46250, Testing Accuracy= 0.40909\n",
      "Iter 61, Loss= 0.693147, Training Accuracy= 0.47500, Testing Accuracy= 0.36364\n",
      "Iter 62, Loss= 0.693147, Training Accuracy= 0.50000, Testing Accuracy= 0.40909\n",
      "Iter 63, Loss= 0.693147, Training Accuracy= 0.53750, Testing Accuracy= 0.59091\n",
      "Iter 64, Loss= 0.693147, Training Accuracy= 0.56250, Testing Accuracy= 0.72727\n",
      "Iter 65, Loss= 0.693147, Training Accuracy= 0.51250, Testing Accuracy= 0.77273\n",
      "Iter 66, Loss= 0.693147, Training Accuracy= 0.53750, Testing Accuracy= 0.77273\n",
      "Iter 67, Loss= 0.693147, Training Accuracy= 0.51250, Testing Accuracy= 0.72727\n",
      "Iter 68, Loss= 0.693147, Training Accuracy= 0.46250, Testing Accuracy= 0.68182\n",
      "Iter 69, Loss= 0.693147, Training Accuracy= 0.46250, Testing Accuracy= 0.45455\n",
      "Iter 70, Loss= 0.693147, Training Accuracy= 0.47500, Testing Accuracy= 0.40909\n",
      "Iter 71, Loss= 0.693147, Training Accuracy= 0.52500, Testing Accuracy= 0.45455\n",
      "Iter 72, Loss= 0.693147, Training Accuracy= 0.58750, Testing Accuracy= 0.45455\n",
      "Iter 73, Loss= 0.693147, Training Accuracy= 0.53750, Testing Accuracy= 0.59091\n",
      "Iter 74, Loss= 0.693147, Training Accuracy= 0.50000, Testing Accuracy= 0.77273\n",
      "Iter 75, Loss= 0.693147, Training Accuracy= 0.48750, Testing Accuracy= 0.77273\n",
      "Iter 76, Loss= 0.693147, Training Accuracy= 0.47500, Testing Accuracy= 0.77273\n",
      "Iter 77, Loss= 0.693147, Training Accuracy= 0.50000, Testing Accuracy= 0.77273\n",
      "Iter 78, Loss= 0.693147, Training Accuracy= 0.51250, Testing Accuracy= 0.77273\n",
      "Iter 79, Loss= 0.693147, Training Accuracy= 0.37500, Testing Accuracy= 0.77273\n",
      "Iter 80, Loss= 0.693147, Training Accuracy= 0.47500, Testing Accuracy= 0.45455\n",
      "Iter 81, Loss= 0.693147, Training Accuracy= 0.45000, Testing Accuracy= 0.27273\n",
      "Iter 82, Loss= 0.693147, Training Accuracy= 0.46250, Testing Accuracy= 0.18182\n",
      "Iter 83, Loss= 0.693147, Training Accuracy= 0.50000, Testing Accuracy= 0.18182\n",
      "Iter 84, Loss= 0.693148, Training Accuracy= 0.52500, Testing Accuracy= 0.18182\n",
      "Iter 85, Loss= 0.693148, Training Accuracy= 0.56250, Testing Accuracy= 0.40909\n",
      "Iter 86, Loss= 0.693148, Training Accuracy= 0.55000, Testing Accuracy= 0.68182\n",
      "Iter 87, Loss= 0.693148, Training Accuracy= 0.46250, Testing Accuracy= 0.86364\n",
      "Iter 88, Loss= 0.693148, Training Accuracy= 0.45000, Testing Accuracy= 0.90909\n",
      "Iter 89, Loss= 0.693149, Training Accuracy= 0.51250, Testing Accuracy= 0.90909\n",
      "Iter 90, Loss= 0.693149, Training Accuracy= 0.46250, Testing Accuracy= 0.90909\n",
      "Iter 91, Loss= 0.693151, Training Accuracy= 0.61250, Testing Accuracy= 0.86364\n",
      "Iter 92, Loss= 0.693149, Training Accuracy= 0.41250, Testing Accuracy= 0.81818\n",
      "Iter 93, Loss= 0.693149, Training Accuracy= 0.57500, Testing Accuracy= 0.40909\n",
      "Iter 94, Loss= 0.693148, Training Accuracy= 0.55000, Testing Accuracy= 0.86364\n",
      "Iter 95, Loss= 0.693148, Training Accuracy= 0.45000, Testing Accuracy= 0.72727\n",
      "Iter 96, Loss= 0.693147, Training Accuracy= 0.50000, Testing Accuracy= 0.81818\n",
      "Iter 97, Loss= 0.693147, Training Accuracy= 0.47500, Testing Accuracy= 0.86364\n",
      "Iter 98, Loss= 0.693147, Training Accuracy= 0.50000, Testing Accuracy= 0.81818\n",
      "Iter 99, Loss= 0.693147, Training Accuracy= 0.42500, Testing Accuracy= 0.81818\n"
     ]
    }
   ],
   "source": [
    "# train model\n",
    "with tf.Session(config=config) as sess:\n",
    "    sess.run(init)\n",
    "    train_loss = []\n",
    "    test_loss = []\n",
    "    train_accuracy = []\n",
    "    test_accuracy = []\n",
    "    summary_writer = tf.summary.FileWriter('./Output', sess.graph)\n",
    "    num_batches = len(train_idx)//batch_size\n",
    "    \n",
    "    for i in range(training_iters):\n",
    "        \n",
    "        # Reset metrics\n",
    "        loss_total = 0\n",
    "        acc_total = 0\n",
    "   \n",
    "        # Run optimization \n",
    "        # Calculate batch loss and accuracy\n",
    "        for batch in range(num_batches):\n",
    "            batch_x = data_img[train_idx,:,:,:][batch*batch_size:min((batch+1)*batch_size,len(train_idx))]\n",
    "            batch_y = y_train_true[batch*batch_size:min((batch+1)*batch_size,len(y_train_true))]    \n",
    "\n",
    "            feed_dict={x: batch_x, y: batch_y}\n",
    "            opt = sess.run(optimizer, feed_dict=feed_dict)\n",
    "            loss, acc = sess.run([cost, accuracy], feed_dict=feed_dict)\n",
    "            loss_total += loss\n",
    "            acc_total += acc\n",
    "\n",
    "        # Average metrics\n",
    "        ave_loss = loss_total/num_batches\n",
    "        ave_acc = acc_total/num_batches\n",
    "        \n",
    "        # Calculate accuracy for all test images\n",
    "        test_acc,valid_loss = sess.run([accuracy,cost],\n",
    "                                feed_dict={x: data_img[test_idx,:,:,:], y : y_test_true})\n",
    "        train_loss.append(ave_loss)\n",
    "        test_loss.append(valid_loss)\n",
    "        train_accuracy.append(ave_acc)\n",
    "        test_accuracy.append(test_acc)\n",
    "        \n",
    "        if i%1 == 0:\n",
    "            print(\"Iter \" + str(i) + \", Loss= \" + \\\n",
    "                  \"{:.6f}\".format(ave_loss) + \", Training Accuracy= \" + \\\n",
    "                  \"{:.5f}\".format(ave_acc)+ \", Testing Accuracy= \" + \\\n",
    "                  \"{:.5f}\".format(test_acc))\n",
    "    summary_writer.close()"
   ]
  },
  {
   "cell_type": "code",
   "execution_count": 29,
   "id": "f521b478",
   "metadata": {},
   "outputs": [
    {
     "data": {
      "image/png": "[encoded data removed]",
      "text/plain": [
       "<Figure size 432x288 with 1 Axes>"
      ]
     },
     "metadata": {
      "needs_background": "light"
     },
     "output_type": "display_data"
    }
   ],
   "source": [
    "fig,ax = plt.subplots(1,1)\n",
    "ax.plot(train_loss)\n",
    "plt.show()"
   ]
  },
  {
   "cell_type": "code",
   "execution_count": null,
   "id": "6bdc557a",
   "metadata": {},
   "outputs": [],
   "source": []
  }
 ],
 "metadata": {
  "kernelspec": {
   "display_name": "Environment (conda_tensorflow_p37)",
   "language": "python",
   "name": "conda_tensorflow_p37"
  },
  "language_info": {
   "codemirror_mode": {
    "name": "ipython",
    "version": 3
   },
   "file_extension": ".py",
   "mimetype": "text/x-python",
   "name": "python",
   "nbconvert_exporter": "python",
   "pygments_lexer": "ipython3",
   "version": "3.7.10"
  }
 },
 "nbformat": 4,
 "nbformat_minor": 5
}
