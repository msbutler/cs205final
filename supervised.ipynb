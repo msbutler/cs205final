{
 "cells": [
  {
   "cell_type": "code",
   "execution_count": 18,
   "id": "b2b803e6",
   "metadata": {},
   "outputs": [],
   "source": [
    "import tensorflow as tf\n",
    "import matplotlib.pyplot as plt\n",
    "import numpy as np\n",
    "import scipy as sp\n",
    "\n",
    "from PIL import Image\n",
    "import os"
   ]
  },
  {
   "cell_type": "code",
   "execution_count": 19,
   "id": "5c8c4a4d",
   "metadata": {},
   "outputs": [],
   "source": [
    "#import tensorflow.compat.v1 as tf\n",
    "tf.disable_v2_behavior()\n",
    "config = tf.ConfigProto()\n",
    "config.gpu_options.allow_growth = True"
   ]
  },
  {
   "cell_type": "code",
   "execution_count": 20,
   "id": "2426fa4d",
   "metadata": {},
   "outputs": [],
   "source": [
    "# For moving all img files from one root dir to another\n",
    "# source = \"Train\"\n",
    "# dest = \"Train1\"\n",
    "\n",
    "# label_flood_dir = os.path.join('Labeled','Flooded','image')\n",
    "# label_nonflood_dir = os.path.join('Labeled','Non-Flooded','image')\n",
    "\n",
    "# for dire in label_flood_dir,label_nonflood_dir:\n",
    "#     source_dir = os.path.join(source,dire)\n",
    "#     dest_dir = os.path.join(dest,dire)\n",
    "#     for file in os.listdir(source_dir):\n",
    "#         source_file = os.path.join(source_dir,file)\n",
    "#         dest_file = os.path.join(dest_dir,file)\n",
    "#         os.rename(source_file,dest_file)"
   ]
  },
  {
   "cell_type": "markdown",
   "id": "301360b7",
   "metadata": {},
   "source": [
    "Should take around 3 minutes to load"
   ]
  },
  {
   "cell_type": "code",
   "execution_count": 21,
   "id": "10346eb8",
   "metadata": {},
   "outputs": [
    {
     "name": "stdout",
     "output_type": "stream",
     "text": [
      "Loading Data from Memory\n",
      "Loaded!\n"
     ]
    }
   ],
   "source": [
    "h_dim = 1000\n",
    "v_dim = 750\n",
    "print(\"Loading Data from Memory\")\n",
    "\n",
    "root = \"Train\"\n",
    "label_flood_dir = os.path.join(root,'Labeled','Flooded','image')\n",
    "label_nonflood_dir = os.path.join(root,'Labeled','Non-Flooded','image')\n",
    "flooded_img = []\n",
    "nonflooded_img = []\n",
    "\n",
    "for file in os.listdir(label_flood_dir):\n",
    "    image = Image.open(os.path.join(label_flood_dir, file))\n",
    "    flooded_img.append(np.array(image.resize((h_dim,v_dim))))\n",
    "    \n",
    "for file in os.listdir(label_nonflood_dir):\n",
    "    image = Image.open(os.path.join(label_nonflood_dir, file))\n",
    "    nonflooded_img.append(np.array(image.resize((h_dim,v_dim))))\n",
    "print(\"Loaded!\")"
   ]
  },
  {
   "cell_type": "code",
   "execution_count": 22,
   "id": "6e88a06f",
   "metadata": {},
   "outputs": [
    {
     "name": "stdout",
     "output_type": "stream",
     "text": [
      "(750, 1000, 3)\n"
     ]
    }
   ],
   "source": [
    "print(flooded_img[0].shape)"
   ]
  },
  {
   "cell_type": "code",
   "execution_count": 23,
   "id": "c26bfee3",
   "metadata": {},
   "outputs": [
    {
     "name": "stdout",
     "output_type": "stream",
     "text": [
      "Flooded Image Shape: (750, 1000, 3)\n",
      "Non_Flooded Image Shape: (750, 1000, 3)\n"
     ]
    }
   ],
   "source": [
    "print(\"Flooded Image Shape: {}\".format(flooded_img[0].shape))\n",
    "print(\"Non_Flooded Image Shape: {}\".format(nonflooded_img[0].shape))"
   ]
  },
  {
   "cell_type": "code",
   "execution_count": 24,
   "id": "23fc2a8a",
   "metadata": {},
   "outputs": [
    {
     "data": {
      "text/plain": [
       "(397, 750, 1000, 3)"
      ]
     },
     "execution_count": 24,
     "metadata": {},
     "output_type": "execute_result"
    }
   ],
   "source": [
    "data_img = np.vstack((np.array(flooded_img), np.array(nonflooded_img))) / 255.\n",
    "data_img.shape"
   ]
  },
  {
   "cell_type": "code",
   "execution_count": 25,
   "id": "817172fb",
   "metadata": {},
   "outputs": [
    {
     "data": {
      "text/plain": [
       "1.0"
      ]
     },
     "execution_count": 25,
     "metadata": {},
     "output_type": "execute_result"
    }
   ],
   "source": [
    "data_img.max()"
   ]
  },
  {
   "cell_type": "code",
   "execution_count": 26,
   "id": "88a58f90",
   "metadata": {},
   "outputs": [
    {
     "data": {
      "text/plain": [
       "0.0"
      ]
     },
     "execution_count": 26,
     "metadata": {},
     "output_type": "execute_result"
    }
   ],
   "source": [
    "data_img.min()"
   ]
  },
  {
   "cell_type": "code",
   "execution_count": 27,
   "id": "4edf37bc",
   "metadata": {},
   "outputs": [
    {
     "data": {
      "text/plain": [
       "(51, 750, 1000, 3)"
      ]
     },
     "execution_count": 27,
     "metadata": {},
     "output_type": "execute_result"
    }
   ],
   "source": [
    "np.array(flooded_img).shape"
   ]
  },
  {
   "cell_type": "code",
   "execution_count": 28,
   "id": "98b35279",
   "metadata": {},
   "outputs": [
    {
     "name": "stdout",
     "output_type": "stream",
     "text": [
      "Training Index: [  0   1   2   3   4   6   8   9  11  13  14  15  16  17  18  19  21  22\n",
      "  23  24  25  26  27  28  30  31  32  34  35  36  38  40  41  42  43  44\n",
      "  46  47  48  49  54  57  60  70  77  82  85  86 114 117 130 131 139 142\n",
      " 143 145 147 185 196 213 225 231 241 246 250 255 256 261 269 292 301 322\n",
      " 341 356 363 375 377 388 389 392]\n",
      "Testing Index: [  5   7  10  12  20  29  33  37  39  45  50  62  84 102 124 239 294 338\n",
      " 345 350 381 385]\n"
     ]
    }
   ],
   "source": [
    "import random\n",
    "test = False\n",
    "\n",
    "#n is number images from each class (flooded or non flooded)\n",
    "if test == True:\n",
    "    n = 20\n",
    "    #train_idx = np.array([np.arange(7),np.arange(10,17)]).flatten()\n",
    "    #test_idx = np.array([np.arange(7,10),np.arange(17,20)]).flatten()\n",
    "else:\n",
    "    n = min(len(flooded_img),len(nonflooded_img))\n",
    "\n",
    "'''split data 50 50'''\n",
    "def train_test_split(n):\n",
    "    idxs = list(range(n))\n",
    "    s = int(np.floor(0.8*n)) # number of images for training\n",
    "    \n",
    "    train_idx = []\n",
    "    test_idx = []\n",
    "    \n",
    "    #index range to select from (flooded img range, non flooded image range)\n",
    "    for s_i,e_i in [(0,len(flooded_img)),(len(flooded_img),len(data_img))]:\n",
    "        \n",
    "        #print(s_i,e_i,n,s)\n",
    "        #get all poss indexes for set\n",
    "        s_idx = list(range(s_i,e_i))\n",
    "        random.shuffle(s_idx)\n",
    "        \n",
    "        train_idx.extend(s_idx[:s])      #first s images are for training\n",
    "        test_idx.extend(s_idx[s:n])      # next n-s images are for testing. \n",
    "        #print(len(train_idx))\n",
    "    \n",
    "    train_idx = np.array(train_idx)\n",
    "    test_idx = np.array(test_idx)\n",
    "    train_idx.sort()\n",
    "    test_idx.sort()\n",
    "    \n",
    "    train_labels = [1 if x<len(flooded_img) else 0 for x in train_idx]\n",
    "    test_labels = [1 if x<len(flooded_img) else 0 for x in test_idx]\n",
    "\n",
    "    print(\"Training Index: {}\".format(train_idx))\n",
    "    print(\"Testing Index: {}\".format(test_idx))\n",
    "    return train_idx, test_idx, train_labels, test_labels\n",
    "\n",
    "train_idx, test_idx, train_labels, test_labels = train_test_split(n)\n"
   ]
  },
  {
   "cell_type": "code",
   "execution_count": 29,
   "id": "31b0d829",
   "metadata": {},
   "outputs": [],
   "source": [
    "# convolutional layer\n",
    "def conv_layer(x, shape):\n",
    "\n",
    "    weights = tf.Variable(tf.truncated_normal(shape, stddev=0.05))\n",
    "    bias = tf.Variable(tf.constant(0.05, shape=[shape[-1]]))\n",
    "\n",
    "    out = tf.nn.conv2d(input=x, filters=weights, strides=[1,1,1,1], padding='SAME')\n",
    "    out += bias\n",
    "    return out\n",
    "\n",
    "# pooling layer\n",
    "def max_pool(x, k=2):\n",
    "\n",
    "    out = tf.nn.max_pool(value=x, ksize=[1, k, k, 1], strides=[1, k, k, 1], padding='SAME')\n",
    "    return out\n",
    "\n",
    "# fully connected layer\n",
    "def fully_connected_layer(x, shape):\n",
    "\n",
    "    weights = tf.Variable(tf.truncated_normal(shape, stddev=0.05))\n",
    "    bias = tf.Variable(tf.constant(0.05, shape=[shape[1]]))\n",
    "\n",
    "    out = tf.matmul(a=x, b=weights)\n",
    "    out += bias\n",
    "    return out\n",
    "\n",
    "# flatten layer\n",
    "def flatten_layer(x):\n",
    "    \n",
    "    size = x.get_shape()[1:4].num_elements()\n",
    "    out = tf.reshape(x, [-1,size])\n",
    "    return out, size\n",
    "\n",
    "# relu\n",
    "relu = lambda x: tf.nn.relu(features=x)\n",
    "\n",
    "# softmax\n",
    "softmax = lambda x: tf.nn.softmax(logits=x)"
   ]
  },
  {
   "cell_type": "code",
   "execution_count": 30,
   "id": "5464b6f6",
   "metadata": {},
   "outputs": [],
   "source": [
    "def toy_model(x):\n",
    "\n",
    "    # three convolutional layers with max pool\n",
    "    shape0 = [5, 5, 3, 3]\n",
    "    conv0 = conv_layer(x, shape0)\n",
    "    conv0 = max_pool(conv0, k=2)\n",
    "\n",
    "    shape1 = [5, 5, 3, 1]\n",
    "    conv1 = conv_layer(conv0, shape1)\n",
    "    conv1 = max_pool(conv1, k=2)\n",
    "\n",
    "    shape2 = [5, 5, 1, 1]\n",
    "    conv2 = conv_layer(conv1, shape2)\n",
    "    conv2 = max_pool(conv2, k=2)\n",
    "\n",
    "    # flatten output and put through a fully connected layer\n",
    "    flat1, size1 = flatten_layer(conv2)\n",
    "    fc1 = fully_connected_layer(flat1, [size1, 64])\n",
    "    fc1 = relu(fc1)\n",
    "\n",
    "    fc2 = fully_connected_layer(fc1, [64, 2])\n",
    "    out = softmax(fc2)\n",
    "\n",
    "    return out"
   ]
  },
  {
   "cell_type": "code",
   "execution_count": 31,
   "id": "69ed2655",
   "metadata": {},
   "outputs": [],
   "source": [
    "def sharpen(p):\n",
    "    T = 0.5\n",
    "    pred = p**(1./T)/(p**(1./T) + (1.-p)**(1./T))\n",
    "    return pred"
   ]
  },
  {
   "cell_type": "code",
   "execution_count": 27,
   "id": "83bd6df1",
   "metadata": {},
   "outputs": [
    {
     "name": "stdout",
     "output_type": "stream",
     "text": [
      "Tensor(\"truediv_4:0\", shape=(?, 2), dtype=float32)\n"
     ]
    }
   ],
   "source": [
    "# define inputs\n",
    "x = tf.placeholder(tf.float32, [None, v_dim, h_dim, 3])\n",
    "y = tf.placeholder(tf.float32, [None, 1])\n",
    "y_train_true = np.array(train_labels).reshape(-1,1)\n",
    "y_test_true = np.array(test_labels).reshape(-1,1)\n",
    "\n",
    "# run model with placeholder tensors\n",
    "pred = toy_model(x)\n",
    "\n",
    "# sharpen\n",
    "pred = sharpen(pred)\n",
    "\n",
    "# define loss\n",
    "cross_entropy = tf.nn.softmax_cross_entropy_with_logits(logits=pred, labels=y)\n",
    "cost = tf.reduce_mean(cross_entropy)\n",
    "\n",
    "# define accuracy\n",
    "pred_correct = tf.equal(tf.argmax(pred, 1), tf.argmax(y, 1))\n",
    "accuracy = tf.reduce_mean(tf.cast(pred_correct, tf.float32))\n",
    "\n",
    "# define optimizer\n",
    "optimizer = tf.train.AdamOptimizer(learning_rate=1e-3).minimize(cost)\n",
    "\n",
    "# initialize variables\n",
    "init = tf.global_variables_initializer()\n",
    "training_iters = 5\n",
    "batch_size = 2#len(train_idx)"
   ]
  },
  {
   "cell_type": "code",
   "metadata": {},
   "outputs": [
    {
     "ename": "UnknownError",
     "evalue": "Failed to get convolution algorithm. This is probably because cuDNN failed to initialize, so try looking to see if a warning log message was printed above.\n\t [[node Conv2D_6 (defined at /home/ubuntu/anaconda3/envs/tensorflow_p37/gpu_cuda10.0/lib/python3.7/site-packages/tensorflow_core/python/framework/ops.py:1748) ]]\n\nOriginal stack trace for 'Conv2D_6':\n  File \"/home/ubuntu/anaconda3/envs/tensorflow_p37/lib/python3.7/runpy.py\", line 193, in _run_module_as_main\n    \"__main__\", mod_spec)\n  File \"/home/ubuntu/anaconda3/envs/tensorflow_p37/lib/python3.7/runpy.py\", line 85, in _run_code\n    exec(code, run_globals)\n  File \"/home/ubuntu/anaconda3/envs/tensorflow_p37/lib/python3.7/site-packages/ipykernel/__main__.py\", line 3, in <module>\n    app.launch_new_instance()\n  File \"/home/ubuntu/anaconda3/envs/tensorflow_p37/lib/python3.7/site-packages/traitlets/config/application.py\", line 845, in launch_instance\n    app.start()\n  File \"/home/ubuntu/anaconda3/envs/tensorflow_p37/lib/python3.7/site-packages/ipykernel/kernelapp.py\", line 612, in start\n    self.io_loop.start()\n  File \"/home/ubuntu/anaconda3/envs/tensorflow_p37/lib/python3.7/site-packages/tornado/platform/asyncio.py\", line 199, in start\n    self.asyncio_loop.run_forever()\n  File \"/home/ubuntu/anaconda3/envs/tensorflow_p37/lib/python3.7/asyncio/base_events.py\", line 541, in run_forever\n    self._run_once()\n  File \"/home/ubuntu/anaconda3/envs/tensorflow_p37/lib/python3.7/asyncio/base_events.py\", line 1786, in _run_once\n    handle._run()\n  File \"/home/ubuntu/anaconda3/envs/tensorflow_p37/lib/python3.7/asyncio/events.py\", line 88, in _run\n    self._context.run(self._callback, *self._args)\n  File \"/home/ubuntu/anaconda3/envs/tensorflow_p37/lib/python3.7/site-packages/tornado/ioloop.py\", line 688, in <lambda>\n    lambda f: self._run_callback(functools.partial(callback, future))\n  File \"/home/ubuntu/anaconda3/envs/tensorflow_p37/lib/python3.7/site-packages/tornado/ioloop.py\", line 741, in _run_callback\n    ret = callback()\n  File \"/home/ubuntu/anaconda3/envs/tensorflow_p37/lib/python3.7/site-packages/tornado/gen.py\", line 814, in inner\n    self.ctx_run(self.run)\n  File \"/home/ubuntu/anaconda3/envs/tensorflow_p37/lib/python3.7/site-packages/tornado/gen.py\", line 775, in run\n    yielded = self.gen.send(value)\n  File \"/home/ubuntu/anaconda3/envs/tensorflow_p37/lib/python3.7/site-packages/ipykernel/kernelbase.py\", line 374, in dispatch_queue\n    yield self.process_one()\n  File \"/home/ubuntu/anaconda3/envs/tensorflow_p37/lib/python3.7/site-packages/tornado/gen.py\", line 250, in wrapper\n    runner = Runner(ctx_run, result, future, yielded)\n  File \"/home/ubuntu/anaconda3/envs/tensorflow_p37/lib/python3.7/site-packages/tornado/gen.py\", line 741, in __init__\n    self.ctx_run(self.run)\n  File \"/home/ubuntu/anaconda3/envs/tensorflow_p37/lib/python3.7/site-packages/tornado/gen.py\", line 775, in run\n    yielded = self.gen.send(value)\n  File \"/home/ubuntu/anaconda3/envs/tensorflow_p37/lib/python3.7/site-packages/ipykernel/kernelbase.py\", line 358, in process_one\n    yield gen.maybe_future(dispatch(*args))\n  File \"/home/ubuntu/anaconda3/envs/tensorflow_p37/lib/python3.7/site-packages/tornado/gen.py\", line 234, in wrapper\n    yielded = ctx_run(next, result)\n  File \"/home/ubuntu/anaconda3/envs/tensorflow_p37/lib/python3.7/site-packages/ipykernel/kernelbase.py\", line 261, in dispatch_shell\n    yield gen.maybe_future(handler(stream, idents, msg))\n  File \"/home/ubuntu/anaconda3/envs/tensorflow_p37/lib/python3.7/site-packages/tornado/gen.py\", line 234, in wrapper\n    yielded = ctx_run(next, result)\n  File \"/home/ubuntu/anaconda3/envs/tensorflow_p37/lib/python3.7/site-packages/ipykernel/kernelbase.py\", line 538, in execute_request\n    user_expressions, allow_stdin,\n  File \"/home/ubuntu/anaconda3/envs/tensorflow_p37/lib/python3.7/site-packages/tornado/gen.py\", line 234, in wrapper\n    yielded = ctx_run(next, result)\n  File \"/home/ubuntu/anaconda3/envs/tensorflow_p37/lib/python3.7/site-packages/ipykernel/ipkernel.py\", line 302, in do_execute\n    res = shell.run_cell(code, store_history=store_history, silent=silent)\n  File \"/home/ubuntu/anaconda3/envs/tensorflow_p37/lib/python3.7/site-packages/ipykernel/zmqshell.py\", line 539, in run_cell\n    return super(ZMQInteractiveShell, self).run_cell(*args, **kwargs)\n  File \"/home/ubuntu/anaconda3/envs/tensorflow_p37/lib/python3.7/site-packages/IPython/core/interactiveshell.py\", line 2887, in run_cell\n    raw_cell, store_history, silent, shell_futures)\n  File \"/home/ubuntu/anaconda3/envs/tensorflow_p37/lib/python3.7/site-packages/IPython/core/interactiveshell.py\", line 2932, in _run_cell\n    return runner(coro)\n  File \"/home/ubuntu/anaconda3/envs/tensorflow_p37/lib/python3.7/site-packages/IPython/core/async_helpers.py\", line 68, in _pseudo_sync_runner\n    coro.send(None)\n  File \"/home/ubuntu/anaconda3/envs/tensorflow_p37/lib/python3.7/site-packages/IPython/core/interactiveshell.py\", line 3156, in run_cell_async\n    interactivity=interactivity, compiler=compiler, result=result)\n  File \"/home/ubuntu/anaconda3/envs/tensorflow_p37/lib/python3.7/site-packages/IPython/core/interactiveshell.py\", line 3347, in run_ast_nodes\n    if (await self.run_code(code, result,  async_=asy)):\n  File \"/home/ubuntu/anaconda3/envs/tensorflow_p37/lib/python3.7/site-packages/IPython/core/interactiveshell.py\", line 3427, in run_code\n    exec(code_obj, self.user_global_ns, self.user_ns)\n  File \"<ipython-input-31-d16d70721472>\", line 8, in <module>\n    pred = toy_model(x)\n  File \"<ipython-input-30-4e493c4087ab>\", line 5, in toy_model\n    conv0 = conv_layer(x, shape0)\n  File \"<ipython-input-29-eaf3e7e9d8b6>\", line 7, in conv_layer\n    out = tf.nn.conv2d(input=x, filters=weights, strides=[1,1,1,1], padding='SAME')\n  File \"/home/ubuntu/anaconda3/envs/tensorflow_p37/gpu_cuda10.0/lib/python3.7/site-packages/tensorflow_core/python/ops/nn_ops.py\", line 2010, in conv2d\n    name=name)\n  File \"/home/ubuntu/anaconda3/envs/tensorflow_p37/gpu_cuda10.0/lib/python3.7/site-packages/tensorflow_core/python/ops/gen_nn_ops.py\", line 1071, in conv2d\n    data_format=data_format, dilations=dilations, name=name)\n  File \"/home/ubuntu/anaconda3/envs/tensorflow_p37/gpu_cuda10.0/lib/python3.7/site-packages/tensorflow_core/python/framework/op_def_library.py\", line 794, in _apply_op_helper\n    op_def=op_def)\n  File \"/home/ubuntu/anaconda3/envs/tensorflow_p37/gpu_cuda10.0/lib/python3.7/site-packages/tensorflow_core/python/util/deprecation.py\", line 507, in new_func\n    return func(*args, **kwargs)\n  File \"/home/ubuntu/anaconda3/envs/tensorflow_p37/gpu_cuda10.0/lib/python3.7/site-packages/tensorflow_core/python/framework/ops.py\", line 3357, in create_op\n    attrs, op_def, compute_device)\n  File \"/home/ubuntu/anaconda3/envs/tensorflow_p37/gpu_cuda10.0/lib/python3.7/site-packages/tensorflow_core/python/framework/ops.py\", line 3426, in _create_op_internal\n    op_def=op_def)\n  File \"/home/ubuntu/anaconda3/envs/tensorflow_p37/gpu_cuda10.0/lib/python3.7/site-packages/tensorflow_core/python/framework/ops.py\", line 1748, in __init__\n    self._traceback = tf_stack.extract_stack()\n",
     "output_type": "error",
     "traceback": [
      "\u001b[0;31m---------------------------------------------------------------------------\u001b[0m",
      "\u001b[0;31mUnknownError\u001b[0m                              Traceback (most recent call last)",
      "\u001b[0;32m~/anaconda3/envs/tensorflow_p37/gpu_cuda10.0/lib/python3.7/site-packages/tensorflow_core/python/client/session.py\u001b[0m in \u001b[0;36m_do_call\u001b[0;34m(self, fn, *args)\u001b[0m\n\u001b[1;32m   1364\u001b[0m     \u001b[0;32mtry\u001b[0m\u001b[0;34m:\u001b[0m\u001b[0;34m\u001b[0m\u001b[0;34m\u001b[0m\u001b[0m\n\u001b[0;32m-> 1365\u001b[0;31m       \u001b[0;32mreturn\u001b[0m \u001b[0mfn\u001b[0m\u001b[0;34m(\u001b[0m\u001b[0;34m*\u001b[0m\u001b[0margs\u001b[0m\u001b[0;34m)\u001b[0m\u001b[0;34m\u001b[0m\u001b[0;34m\u001b[0m\u001b[0m\n\u001b[0m\u001b[1;32m   1366\u001b[0m     \u001b[0;32mexcept\u001b[0m \u001b[0merrors\u001b[0m\u001b[0;34m.\u001b[0m\u001b[0mOpError\u001b[0m \u001b[0;32mas\u001b[0m \u001b[0me\u001b[0m\u001b[0;34m:\u001b[0m\u001b[0;34m\u001b[0m\u001b[0;34m\u001b[0m\u001b[0m\n",
      "\u001b[0;32m~/anaconda3/envs/tensorflow_p37/gpu_cuda10.0/lib/python3.7/site-packages/tensorflow_core/python/client/session.py\u001b[0m in \u001b[0;36m_run_fn\u001b[0;34m(feed_dict, fetch_list, target_list, options, run_metadata)\u001b[0m\n\u001b[1;32m   1349\u001b[0m       return self._call_tf_sessionrun(options, feed_dict, fetch_list,\n\u001b[0;32m-> 1350\u001b[0;31m                                       target_list, run_metadata)\n\u001b[0m\u001b[1;32m   1351\u001b[0m \u001b[0;34m\u001b[0m\u001b[0m\n",
      "\u001b[0;32m~/anaconda3/envs/tensorflow_p37/gpu_cuda10.0/lib/python3.7/site-packages/tensorflow_core/python/client/session.py\u001b[0m in \u001b[0;36m_call_tf_sessionrun\u001b[0;34m(self, options, feed_dict, fetch_list, target_list, run_metadata)\u001b[0m\n\u001b[1;32m   1442\u001b[0m                                             \u001b[0mfetch_list\u001b[0m\u001b[0;34m,\u001b[0m \u001b[0mtarget_list\u001b[0m\u001b[0;34m,\u001b[0m\u001b[0;34m\u001b[0m\u001b[0;34m\u001b[0m\u001b[0m\n\u001b[0;32m-> 1443\u001b[0;31m                                             run_metadata)\n\u001b[0m\u001b[1;32m   1444\u001b[0m \u001b[0;34m\u001b[0m\u001b[0m\n",
      "\u001b[0;31mUnknownError\u001b[0m: Failed to get convolution algorithm. This is probably because cuDNN failed to initialize, so try looking to see if a warning log message was printed above.\n\t [[{{node Conv2D_6}}]]",
      "\nDuring handling of the above exception, another exception occurred:\n",
      "\u001b[0;31mUnknownError\u001b[0m                              Traceback (most recent call last)",
      "\u001b[0;32m<ipython-input-33-30634370afcd>\u001b[0m in \u001b[0;36m<module>\u001b[0;34m\u001b[0m\n\u001b[1;32m     22\u001b[0m \u001b[0;34m\u001b[0m\u001b[0m\n\u001b[1;32m     23\u001b[0m             \u001b[0mfeed_dict\u001b[0m\u001b[0;34m=\u001b[0m\u001b[0;34m{\u001b[0m\u001b[0mx\u001b[0m\u001b[0;34m:\u001b[0m \u001b[0mbatch_x\u001b[0m\u001b[0;34m,\u001b[0m \u001b[0my\u001b[0m\u001b[0;34m:\u001b[0m \u001b[0mbatch_y\u001b[0m\u001b[0;34m}\u001b[0m\u001b[0;34m\u001b[0m\u001b[0;34m\u001b[0m\u001b[0m\n\u001b[0;32m---> 24\u001b[0;31m             \u001b[0mopt\u001b[0m \u001b[0;34m=\u001b[0m \u001b[0msess\u001b[0m\u001b[0;34m.\u001b[0m\u001b[0mrun\u001b[0m\u001b[0;34m(\u001b[0m\u001b[0moptimizer\u001b[0m\u001b[0;34m,\u001b[0m \u001b[0mfeed_dict\u001b[0m\u001b[0;34m=\u001b[0m\u001b[0mfeed_dict\u001b[0m\u001b[0;34m)\u001b[0m\u001b[0;34m\u001b[0m\u001b[0;34m\u001b[0m\u001b[0m\n\u001b[0m\u001b[1;32m     25\u001b[0m             \u001b[0mloss\u001b[0m\u001b[0;34m,\u001b[0m \u001b[0macc\u001b[0m \u001b[0;34m=\u001b[0m \u001b[0msess\u001b[0m\u001b[0;34m.\u001b[0m\u001b[0mrun\u001b[0m\u001b[0;34m(\u001b[0m\u001b[0;34m[\u001b[0m\u001b[0mcost\u001b[0m\u001b[0;34m,\u001b[0m \u001b[0maccuracy\u001b[0m\u001b[0;34m]\u001b[0m\u001b[0;34m,\u001b[0m \u001b[0mfeed_dict\u001b[0m\u001b[0;34m=\u001b[0m\u001b[0mfeed_dict\u001b[0m\u001b[0;34m)\u001b[0m\u001b[0;34m\u001b[0m\u001b[0;34m\u001b[0m\u001b[0m\n\u001b[1;32m     26\u001b[0m             \u001b[0mloss_total\u001b[0m \u001b[0;34m+=\u001b[0m \u001b[0mloss\u001b[0m\u001b[0;34m\u001b[0m\u001b[0;34m\u001b[0m\u001b[0m\n",
      "\u001b[0;32m~/anaconda3/envs/tensorflow_p37/gpu_cuda10.0/lib/python3.7/site-packages/tensorflow_core/python/client/session.py\u001b[0m in \u001b[0;36mrun\u001b[0;34m(self, fetches, feed_dict, options, run_metadata)\u001b[0m\n\u001b[1;32m    954\u001b[0m     \u001b[0;32mtry\u001b[0m\u001b[0;34m:\u001b[0m\u001b[0;34m\u001b[0m\u001b[0;34m\u001b[0m\u001b[0m\n\u001b[1;32m    955\u001b[0m       result = self._run(None, fetches, feed_dict, options_ptr,\n\u001b[0;32m--> 956\u001b[0;31m                          run_metadata_ptr)\n\u001b[0m\u001b[1;32m    957\u001b[0m       \u001b[0;32mif\u001b[0m \u001b[0mrun_metadata\u001b[0m\u001b[0;34m:\u001b[0m\u001b[0;34m\u001b[0m\u001b[0;34m\u001b[0m\u001b[0m\n\u001b[1;32m    958\u001b[0m         \u001b[0mproto_data\u001b[0m \u001b[0;34m=\u001b[0m \u001b[0mtf_session\u001b[0m\u001b[0;34m.\u001b[0m\u001b[0mTF_GetBuffer\u001b[0m\u001b[0;34m(\u001b[0m\u001b[0mrun_metadata_ptr\u001b[0m\u001b[0;34m)\u001b[0m\u001b[0;34m\u001b[0m\u001b[0;34m\u001b[0m\u001b[0m\n",
      "\u001b[0;32m~/anaconda3/envs/tensorflow_p37/gpu_cuda10.0/lib/python3.7/site-packages/tensorflow_core/python/client/session.py\u001b[0m in \u001b[0;36m_run\u001b[0;34m(self, handle, fetches, feed_dict, options, run_metadata)\u001b[0m\n\u001b[1;32m   1178\u001b[0m     \u001b[0;32mif\u001b[0m \u001b[0mfinal_fetches\u001b[0m \u001b[0;32mor\u001b[0m \u001b[0mfinal_targets\u001b[0m \u001b[0;32mor\u001b[0m \u001b[0;34m(\u001b[0m\u001b[0mhandle\u001b[0m \u001b[0;32mand\u001b[0m \u001b[0mfeed_dict_tensor\u001b[0m\u001b[0;34m)\u001b[0m\u001b[0;34m:\u001b[0m\u001b[0;34m\u001b[0m\u001b[0;34m\u001b[0m\u001b[0m\n\u001b[1;32m   1179\u001b[0m       results = self._do_run(handle, final_targets, final_fetches,\n\u001b[0;32m-> 1180\u001b[0;31m                              feed_dict_tensor, options, run_metadata)\n\u001b[0m\u001b[1;32m   1181\u001b[0m     \u001b[0;32melse\u001b[0m\u001b[0;34m:\u001b[0m\u001b[0;34m\u001b[0m\u001b[0;34m\u001b[0m\u001b[0m\n\u001b[1;32m   1182\u001b[0m       \u001b[0mresults\u001b[0m \u001b[0;34m=\u001b[0m \u001b[0;34m[\u001b[0m\u001b[0;34m]\u001b[0m\u001b[0;34m\u001b[0m\u001b[0;34m\u001b[0m\u001b[0m\n",
      "\u001b[0;32m~/anaconda3/envs/tensorflow_p37/gpu_cuda10.0/lib/python3.7/site-packages/tensorflow_core/python/client/session.py\u001b[0m in \u001b[0;36m_do_run\u001b[0;34m(self, handle, target_list, fetch_list, feed_dict, options, run_metadata)\u001b[0m\n\u001b[1;32m   1357\u001b[0m     \u001b[0;32mif\u001b[0m \u001b[0mhandle\u001b[0m \u001b[0;32mis\u001b[0m \u001b[0;32mNone\u001b[0m\u001b[0;34m:\u001b[0m\u001b[0;34m\u001b[0m\u001b[0;34m\u001b[0m\u001b[0m\n\u001b[1;32m   1358\u001b[0m       return self._do_call(_run_fn, feeds, fetches, targets, options,\n\u001b[0;32m-> 1359\u001b[0;31m                            run_metadata)\n\u001b[0m\u001b[1;32m   1360\u001b[0m     \u001b[0;32melse\u001b[0m\u001b[0;34m:\u001b[0m\u001b[0;34m\u001b[0m\u001b[0;34m\u001b[0m\u001b[0m\n\u001b[1;32m   1361\u001b[0m       \u001b[0;32mreturn\u001b[0m \u001b[0mself\u001b[0m\u001b[0;34m.\u001b[0m\u001b[0m_do_call\u001b[0m\u001b[0;34m(\u001b[0m\u001b[0m_prun_fn\u001b[0m\u001b[0;34m,\u001b[0m \u001b[0mhandle\u001b[0m\u001b[0;34m,\u001b[0m \u001b[0mfeeds\u001b[0m\u001b[0;34m,\u001b[0m \u001b[0mfetches\u001b[0m\u001b[0;34m)\u001b[0m\u001b[0;34m\u001b[0m\u001b[0;34m\u001b[0m\u001b[0m\n",
      "\u001b[0;32m~/anaconda3/envs/tensorflow_p37/gpu_cuda10.0/lib/python3.7/site-packages/tensorflow_core/python/client/session.py\u001b[0m in \u001b[0;36m_do_call\u001b[0;34m(self, fn, *args)\u001b[0m\n\u001b[1;32m   1382\u001b[0m                     \u001b[0;34m'\\nsession_config.graph_options.rewrite_options.'\u001b[0m\u001b[0;34m\u001b[0m\u001b[0;34m\u001b[0m\u001b[0m\n\u001b[1;32m   1383\u001b[0m                     'disable_meta_optimizer = True')\n\u001b[0;32m-> 1384\u001b[0;31m       \u001b[0;32mraise\u001b[0m \u001b[0mtype\u001b[0m\u001b[0;34m(\u001b[0m\u001b[0me\u001b[0m\u001b[0;34m)\u001b[0m\u001b[0;34m(\u001b[0m\u001b[0mnode_def\u001b[0m\u001b[0;34m,\u001b[0m \u001b[0mop\u001b[0m\u001b[0;34m,\u001b[0m \u001b[0mmessage\u001b[0m\u001b[0;34m)\u001b[0m\u001b[0;34m\u001b[0m\u001b[0;34m\u001b[0m\u001b[0m\n\u001b[0m\u001b[1;32m   1385\u001b[0m \u001b[0;34m\u001b[0m\u001b[0m\n\u001b[1;32m   1386\u001b[0m   \u001b[0;32mdef\u001b[0m \u001b[0m_extend_graph\u001b[0m\u001b[0;34m(\u001b[0m\u001b[0mself\u001b[0m\u001b[0;34m)\u001b[0m\u001b[0;34m:\u001b[0m\u001b[0;34m\u001b[0m\u001b[0;34m\u001b[0m\u001b[0m\n",
      "\u001b[0;31mUnknownError\u001b[0m: Failed to get convolution algorithm. This is probably because cuDNN failed to initialize, so try looking to see if a warning log message was printed above.\n\t [[node Conv2D_6 (defined at /home/ubuntu/anaconda3/envs/tensorflow_p37/gpu_cuda10.0/lib/python3.7/site-packages/tensorflow_core/python/framework/ops.py:1748) ]]\n\nOriginal stack trace for 'Conv2D_6':\n  File \"/home/ubuntu/anaconda3/envs/tensorflow_p37/lib/python3.7/runpy.py\", line 193, in _run_module_as_main\n    \"__main__\", mod_spec)\n  File \"/home/ubuntu/anaconda3/envs/tensorflow_p37/lib/python3.7/runpy.py\", line 85, in _run_code\n    exec(code, run_globals)\n  File \"/home/ubuntu/anaconda3/envs/tensorflow_p37/lib/python3.7/site-packages/ipykernel/__main__.py\", line 3, in <module>\n    app.launch_new_instance()\n  File \"/home/ubuntu/anaconda3/envs/tensorflow_p37/lib/python3.7/site-packages/traitlets/config/application.py\", line 845, in launch_instance\n    app.start()\n  File \"/home/ubuntu/anaconda3/envs/tensorflow_p37/lib/python3.7/site-packages/ipykernel/kernelapp.py\", line 612, in start\n    self.io_loop.start()\n  File \"/home/ubuntu/anaconda3/envs/tensorflow_p37/lib/python3.7/site-packages/tornado/platform/asyncio.py\", line 199, in start\n    self.asyncio_loop.run_forever()\n  File \"/home/ubuntu/anaconda3/envs/tensorflow_p37/lib/python3.7/asyncio/base_events.py\", line 541, in run_forever\n    self._run_once()\n  File \"/home/ubuntu/anaconda3/envs/tensorflow_p37/lib/python3.7/asyncio/base_events.py\", line 1786, in _run_once\n    handle._run()\n  File \"/home/ubuntu/anaconda3/envs/tensorflow_p37/lib/python3.7/asyncio/events.py\", line 88, in _run\n    self._context.run(self._callback, *self._args)\n  File \"/home/ubuntu/anaconda3/envs/tensorflow_p37/lib/python3.7/site-packages/tornado/ioloop.py\", line 688, in <lambda>\n    lambda f: self._run_callback(functools.partial(callback, future))\n  File \"/home/ubuntu/anaconda3/envs/tensorflow_p37/lib/python3.7/site-packages/tornado/ioloop.py\", line 741, in _run_callback\n    ret = callback()\n  File \"/home/ubuntu/anaconda3/envs/tensorflow_p37/lib/python3.7/site-packages/tornado/gen.py\", line 814, in inner\n    self.ctx_run(self.run)\n  File \"/home/ubuntu/anaconda3/envs/tensorflow_p37/lib/python3.7/site-packages/tornado/gen.py\", line 775, in run\n    yielded = self.gen.send(value)\n  File \"/home/ubuntu/anaconda3/envs/tensorflow_p37/lib/python3.7/site-packages/ipykernel/kernelbase.py\", line 374, in dispatch_queue\n    yield self.process_one()\n  File \"/home/ubuntu/anaconda3/envs/tensorflow_p37/lib/python3.7/site-packages/tornado/gen.py\", line 250, in wrapper\n    runner = Runner(ctx_run, result, future, yielded)\n  File \"/home/ubuntu/anaconda3/envs/tensorflow_p37/lib/python3.7/site-packages/tornado/gen.py\", line 741, in __init__\n    self.ctx_run(self.run)\n  File \"/home/ubuntu/anaconda3/envs/tensorflow_p37/lib/python3.7/site-packages/tornado/gen.py\", line 775, in run\n    yielded = self.gen.send(value)\n  File \"/home/ubuntu/anaconda3/envs/tensorflow_p37/lib/python3.7/site-packages/ipykernel/kernelbase.py\", line 358, in process_one\n    yield gen.maybe_future(dispatch(*args))\n  File \"/home/ubuntu/anaconda3/envs/tensorflow_p37/lib/python3.7/site-packages/tornado/gen.py\", line 234, in wrapper\n    yielded = ctx_run(next, result)\n  File \"/home/ubuntu/anaconda3/envs/tensorflow_p37/lib/python3.7/site-packages/ipykernel/kernelbase.py\", line 261, in dispatch_shell\n    yield gen.maybe_future(handler(stream, idents, msg))\n  File \"/home/ubuntu/anaconda3/envs/tensorflow_p37/lib/python3.7/site-packages/tornado/gen.py\", line 234, in wrapper\n    yielded = ctx_run(next, result)\n  File \"/home/ubuntu/anaconda3/envs/tensorflow_p37/lib/python3.7/site-packages/ipykernel/kernelbase.py\", line 538, in execute_request\n    user_expressions, allow_stdin,\n  File \"/home/ubuntu/anaconda3/envs/tensorflow_p37/lib/python3.7/site-packages/tornado/gen.py\", line 234, in wrapper\n    yielded = ctx_run(next, result)\n  File \"/home/ubuntu/anaconda3/envs/tensorflow_p37/lib/python3.7/site-packages/ipykernel/ipkernel.py\", line 302, in do_execute\n    res = shell.run_cell(code, store_history=store_history, silent=silent)\n  File \"/home/ubuntu/anaconda3/envs/tensorflow_p37/lib/python3.7/site-packages/ipykernel/zmqshell.py\", line 539, in run_cell\n    return super(ZMQInteractiveShell, self).run_cell(*args, **kwargs)\n  File \"/home/ubuntu/anaconda3/envs/tensorflow_p37/lib/python3.7/site-packages/IPython/core/interactiveshell.py\", line 2887, in run_cell\n    raw_cell, store_history, silent, shell_futures)\n  File \"/home/ubuntu/anaconda3/envs/tensorflow_p37/lib/python3.7/site-packages/IPython/core/interactiveshell.py\", line 2932, in _run_cell\n    return runner(coro)\n  File \"/home/ubuntu/anaconda3/envs/tensorflow_p37/lib/python3.7/site-packages/IPython/core/async_helpers.py\", line 68, in _pseudo_sync_runner\n    coro.send(None)\n  File \"/home/ubuntu/anaconda3/envs/tensorflow_p37/lib/python3.7/site-packages/IPython/core/interactiveshell.py\", line 3156, in run_cell_async\n    interactivity=interactivity, compiler=compiler, result=result)\n  File \"/home/ubuntu/anaconda3/envs/tensorflow_p37/lib/python3.7/site-packages/IPython/core/interactiveshell.py\", line 3347, in run_ast_nodes\n    if (await self.run_code(code, result,  async_=asy)):\n  File \"/home/ubuntu/anaconda3/envs/tensorflow_p37/lib/python3.7/site-packages/IPython/core/interactiveshell.py\", line 3427, in run_code\n    exec(code_obj, self.user_global_ns, self.user_ns)\n  File \"<ipython-input-31-d16d70721472>\", line 8, in <module>\n    pred = toy_model(x)\n  File \"<ipython-input-30-4e493c4087ab>\", line 5, in toy_model\n    conv0 = conv_layer(x, shape0)\n  File \"<ipython-input-29-eaf3e7e9d8b6>\", line 7, in conv_layer\n    out = tf.nn.conv2d(input=x, filters=weights, strides=[1,1,1,1], padding='SAME')\n  File \"/home/ubuntu/anaconda3/envs/tensorflow_p37/gpu_cuda10.0/lib/python3.7/site-packages/tensorflow_core/python/ops/nn_ops.py\", line 2010, in conv2d\n    name=name)\n  File \"/home/ubuntu/anaconda3/envs/tensorflow_p37/gpu_cuda10.0/lib/python3.7/site-packages/tensorflow_core/python/ops/gen_nn_ops.py\", line 1071, in conv2d\n    data_format=data_format, dilations=dilations, name=name)\n  File \"/home/ubuntu/anaconda3/envs/tensorflow_p37/gpu_cuda10.0/lib/python3.7/site-packages/tensorflow_core/python/framework/op_def_library.py\", line 794, in _apply_op_helper\n    op_def=op_def)\n  File \"/home/ubuntu/anaconda3/envs/tensorflow_p37/gpu_cuda10.0/lib/python3.7/site-packages/tensorflow_core/python/util/deprecation.py\", line 507, in new_func\n    return func(*args, **kwargs)\n  File \"/home/ubuntu/anaconda3/envs/tensorflow_p37/gpu_cuda10.0/lib/python3.7/site-packages/tensorflow_core/python/framework/ops.py\", line 3357, in create_op\n    attrs, op_def, compute_device)\n  File \"/home/ubuntu/anaconda3/envs/tensorflow_p37/gpu_cuda10.0/lib/python3.7/site-packages/tensorflow_core/python/framework/ops.py\", line 3426, in _create_op_internal\n    op_def=op_def)\n  File \"/home/ubuntu/anaconda3/envs/tensorflow_p37/gpu_cuda10.0/lib/python3.7/site-packages/tensorflow_core/python/framework/ops.py\", line 1748, in __init__\n    self._traceback = tf_stack.extract_stack()\n"
     ]
    }
   ],
   "source": [
    "# train model\n",
    "with tf.Session(config=config) as sess:\n",
    "    sess.run(init)\n",
    "    train_loss = []\n",
    "    test_loss = []\n",
    "    train_accuracy = []\n",
    "    test_accuracy = []\n",
    "    summary_writer = tf.summary.FileWriter('./Output', sess.graph)\n",
    "    num_batches = len(train_idx)//batch_size\n",
    "    \n",
    "    for i in range(training_iters):\n",
    "        \n",
    "        # Reset metrics\n",
    "        loss_total = 0\n",
    "        acc_total = 0\n",
    "   \n",
    "        # Run optimization \n",
    "        # Calculate batch loss and accuracy\n",
    "        for batch in range(num_batches):\n",
    "            batch_x = data_img[train_idx,:,:,:][batch*batch_size:min((batch+1)*batch_size,len(train_idx))]\n",
    "            batch_y = y_train_true[batch*batch_size:min((batch+1)*batch_size,len(y_train_true))]    \n",
    "\n",
    "            feed_dict={x: batch_x, y: batch_y}\n",
    "            opt = sess.run(optimizer, feed_dict=feed_dict)\n",
    "            loss, acc = sess.run([cost, accuracy], feed_dict=feed_dict)\n",
    "            loss_total += loss\n",
    "            acc_total += acc\n",
    "\n",
    "        # Average metrics\n",
    "        ave_loss = loss_total/num_batches\n",
    "        ave_acc = acc_total/num_batches\n",
    "        \n",
    "        # Calculate accuracy for all test images\n",
    "        test_acc,valid_loss = sess.run([accuracy,cost],\n",
    "                                feed_dict={x: data_img[test_idx,:,:,:], y : y_test_true})\n",
    "        train_loss.append(ave_loss)\n",
    "        test_loss.append(valid_loss)\n",
    "        train_accuracy.append(ave_acc)\n",
    "        test_accuracy.append(test_acc)\n",
    "        \n",
    "        if i%1 == 0:\n",
    "            print(\"Iter \" + str(i) + \", Loss= \" + \\\n",
    "                  \"{:.6f}\".format(ave_loss) + \", Training Accuracy= \" + \\\n",
    "                  \"{:.5f}\".format(ave_acc)+ \", Testing Accuracy= \" + \\\n",
    "                  \"{:.5f}\".format(test_acc))\n",
    "    summary_writer.close()"
   ]
  },
  {
   "cell_type": "code",
   "execution_count": 29,
   "id": "f521b478",
   "metadata": {},
   "outputs": [
    {
     "data": {
      "image/png": "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\n",
      "text/plain": [
       "<Figure size 432x288 with 1 Axes>"
      ]
     },
     "metadata": {
      "needs_background": "light"
     },
     "output_type": "display_data"
    }
   ],
   "source": [
    "fig,ax = plt.subplots(1,1)\n",
    "ax.plot(train_loss)\n",
    "plt.show()"
   ]
  },
  {
   "cell_type": "code",
   "execution_count": null,
<<<<<<< HEAD
   "id": "6bdc557a",
=======
   "id": "9737e7f6",
   "metadata": {},
   "outputs": [],
   "source": []
  },
  {
   "cell_type": "code",
   "execution_count": null,
   "id": "88c31038",
>>>>>>> d4ed332a9a57b473a690dc6f867c6bd816fc79b0
   "metadata": {},
   "outputs": [],
   "source": []
  }
 ],
 "metadata": {
  "kernelspec": {
   "display_name": "Environment (conda_tensorflow_p37)",
   "language": "python",
   "name": "conda_tensorflow_p37"
  },
  "language_info": {
   "codemirror_mode": {
    "name": "ipython",
    "version": 3
   },
   "file_extension": ".py",
   "mimetype": "text/x-python",
   "name": "python",
   "nbconvert_exporter": "python",
   "pygments_lexer": "ipython3",
   "version": "3.7.10"
  }
 },
 "nbformat": 4,
 "nbformat_minor": 5
}
