{
 "cells": [
  {
   "cell_type": "markdown",
   "metadata": {
    "cell_id": "00000-e6333092-c5f8-42f2-b61b-1a1b4ae95af2",
    "deepnote_cell_type": "markdown",
    "id": "igwEFg7NdBqp",
    "tags": []
   },
   "source": [
    "## In progress:\n",
    "Developing semi-supervised toy CNN model\n",
    "\n",
    "Weekend goals:\n",
    "- automate data augmentation\n",
    "- add unsupervised learning"
   ]
  },
  {
   "cell_type": "code",
   "execution_count": 1,
   "metadata": {
    "cell_id": "00001-15b2ef72-8122-451d-9467-1c1ce5a4b9b2",
    "colab": {
     "base_uri": "https://localhost:8080/"
    },
    "deepnote_cell_type": "code",
    "deepnote_to_be_reexecuted": false,
    "executionInfo": {
     "elapsed": 2888,
     "status": "ok",
     "timestamp": 1620071970864,
     "user": {
      "displayName": "Preston Yi Jie Ching",
      "photoUrl": "https://lh3.googleusercontent.com/a-/AOh14GgE24aQurCt__h8LsCP-a-d2qofaTondp2UdoR8=s64",
      "userId": "08097061841474620618"
     },
     "user_tz": 240
    },
    "execution_millis": 10016,
    "execution_start": 1619898276639,
    "id": "KsredxMqdBqy",
    "outputId": "6bd684ea-cfd6-490e-dbc8-a1b57b750a89",
    "source_hash": "c0ee331",
    "tags": []
   },
   "outputs": [
    {
     "ename": "ModuleNotFoundError",
     "evalue": "No module named 'tensorflow'",
     "output_type": "error",
     "traceback": [
      "\u001b[0;31m---------------------------------------------------------------------------\u001b[0m",
      "\u001b[0;31mModuleNotFoundError\u001b[0m                       Traceback (most recent call last)",
      "\u001b[0;32m<ipython-input-1-00bd833b5cce>\u001b[0m in \u001b[0;36m<module>\u001b[0;34m\u001b[0m\n\u001b[0;32m----> 1\u001b[0;31m \u001b[0;32mimport\u001b[0m \u001b[0mtensorflow\u001b[0m\u001b[0;34m.\u001b[0m\u001b[0mcompat\u001b[0m\u001b[0;34m.\u001b[0m\u001b[0mv1\u001b[0m \u001b[0;32mas\u001b[0m \u001b[0mtf\u001b[0m\u001b[0;34m\u001b[0m\u001b[0;34m\u001b[0m\u001b[0m\n\u001b[0m\u001b[1;32m      2\u001b[0m \u001b[0mtf\u001b[0m\u001b[0;34m.\u001b[0m\u001b[0mdisable_v2_behavior\u001b[0m\u001b[0;34m(\u001b[0m\u001b[0;34m)\u001b[0m\u001b[0;34m\u001b[0m\u001b[0;34m\u001b[0m\u001b[0m\n\u001b[1;32m      3\u001b[0m \u001b[0;34m\u001b[0m\u001b[0m\n\u001b[1;32m      4\u001b[0m \u001b[0;32mimport\u001b[0m \u001b[0mnumpy\u001b[0m \u001b[0;32mas\u001b[0m \u001b[0mnp\u001b[0m\u001b[0;34m\u001b[0m\u001b[0;34m\u001b[0m\u001b[0m\n\u001b[1;32m      5\u001b[0m \u001b[0;32mimport\u001b[0m \u001b[0mskimage\u001b[0m \u001b[0;32mas\u001b[0m \u001b[0msk\u001b[0m\u001b[0;34m\u001b[0m\u001b[0;34m\u001b[0m\u001b[0m\n",
      "\u001b[0;31mModuleNotFoundError\u001b[0m: No module named 'tensorflow'"
     ]
    }
   ],
   "source": [
    "import tensorflow.compat.v1 as tf\n",
    "tf.disable_v2_behavior()\n",
    "\n",
    "import numpy as np\n",
    "import skimage as sk\n",
    "from skimage import transform\n",
    "import random\n",
    "from PIL import Image\n",
    "import os\n",
    "import matplotlib.pyplot as plt"
   ]
  },
  {
   "cell_type": "code",
   "execution_count": null,
   "metadata": {
    "colab": {
     "base_uri": "https://localhost:8080/"
    },
    "executionInfo": {
     "elapsed": 28770,
     "status": "ok",
     "timestamp": 1620065416806,
     "user": {
      "displayName": "M. Elaine Cunha",
      "photoUrl": "",
      "userId": "05124678883797326168"
     },
     "user_tz": 240
    },
    "id": "ZP22LkV9ZM7y",
    "outputId": "8661939a-919e-4f34-a301-f054471bfade"
   },
   "outputs": [
    {
     "name": "stdout",
     "output_type": "stream",
     "text": [
      "compress imgs in Labeled/Flooded\n",
      "compress imgs in Labeled/Non_Flooded\n",
      "compress imgs in Unlabeled\n"
     ]
    }
   ],
   "source": [
    "# # compress images\n",
    "\n",
    "# \"\"\" compresses all .jpg files in the directory and subdirectory to have a certain basewidth\"\"\"\n",
    "# def compress_im(root,basewidth):\n",
    "#     print(f\"compress imgs in {root}\")\n",
    "    \n",
    "#     for ob in os.listdir(root):\n",
    "#         file_path = os.path.join(root,ob)\n",
    "#         if os.path.isdir(file_path):\n",
    "#             compress_im(file_path,basewidth)\n",
    "#         elif ob[-3:] == \"jpg\":\n",
    "#             #print(file_path)\n",
    "#             #print(os.path.getsize(file_path))\n",
    "#             img = Image.open(file_path)\n",
    "#             img.show()\n",
    "#             comp_frac = basewidth/img.size[0]\n",
    "#             assert (comp_frac <=1.)\n",
    "#             hsize = int(img.size[1] * comp_frac)\n",
    "#             img = img.resize((basewidth, hsize), Image.ANTIALIAS)\n",
    "#             img.show()\n",
    "#             img.save(file_path)\n",
    "#             #print(os.path.getsize(file_path))\n",
    "#             #assert 0 ==1\n",
    "            \n",
    "\n",
    "# compress_im(\"Labeled/Flooded\",1000)\n",
    "# compress_im(\"Labeled/Non_Flooded\",1000)\n",
    "# compress_im(\"Unlabeled\",1000)"
   ]
  },
  {
   "cell_type": "code",
   "execution_count": 13,
   "metadata": {
    "colab": {
     "base_uri": "https://localhost:8080/"
    },
    "executionInfo": {
     "elapsed": 19293,
     "status": "ok",
     "timestamp": 1620072864799,
     "user": {
      "displayName": "Preston Yi Jie Ching",
      "photoUrl": "https://lh3.googleusercontent.com/a-/AOh14GgE24aQurCt__h8LsCP-a-d2qofaTondp2UdoR8=s64",
      "userId": "08097061841474620618"
     },
     "user_tz": 240
    },
    "id": "l-glLP5Tajsv",
    "outputId": "ae17f6a5-4e4a-45b1-95f8-7e745d91d5bb"
   },
   "outputs": [
    {
     "name": "stdout",
     "output_type": "stream",
     "text": [
      "Mounted at /content/drive\n"
     ]
    }
   ],
   "source": [
    "# cd drive/MyDrive/Colab\\ Notebooks/AM\\ 231\\ Toy\\ Model/\n",
    "from google.colab import drive\n",
    "drive.mount('/content/drive')"
   ]
  },
  {
   "cell_type": "code",
   "execution_count": 16,
   "metadata": {
    "colab": {
     "base_uri": "https://localhost:8080/"
    },
    "executionInfo": {
     "elapsed": 164,
     "status": "ok",
     "timestamp": 1620073148444,
     "user": {
      "displayName": "Preston Yi Jie Ching",
      "photoUrl": "https://lh3.googleusercontent.com/a-/AOh14GgE24aQurCt__h8LsCP-a-d2qofaTondp2UdoR8=s64",
      "userId": "08097061841474620618"
     },
     "user_tz": 240
    },
    "id": "vTjHJMp74l2h",
    "outputId": "50451ef1-470b-41b4-8ea9-7a4cdce126bd"
   },
   "outputs": [
    {
     "name": "stdout",
     "output_type": "stream",
     "text": [
      "/content/drive/MyDrive\n"
     ]
    }
   ],
   "source": [
    "cd drive/MyDrive"
   ]
  },
  {
   "cell_type": "code",
   "execution_count": 17,
   "metadata": {
    "cell_id": "00002-b6a2bfb9-6831-494d-8b8c-9aea2507b82b",
    "deepnote_cell_type": "code",
    "executionInfo": {
     "elapsed": 176,
     "status": "ok",
     "timestamp": 1620073150105,
     "user": {
      "displayName": "Preston Yi Jie Ching",
      "photoUrl": "https://lh3.googleusercontent.com/a-/AOh14GgE24aQurCt__h8LsCP-a-d2qofaTondp2UdoR8=s64",
      "userId": "08097061841474620618"
     },
     "user_tz": 240
    },
    "id": "wvjSsNkydBqz"
   },
   "outputs": [],
   "source": [
    "def rotate_img(image):\n",
    "    random_degree = random.uniform(-25, 25) #25% from left or right\n",
    "    return sk.transform.rotate(image, random_degree)\n",
    "\n",
    "def noise_img(image):\n",
    "    return sk.util.random_noise(image)"
   ]
  },
  {
   "cell_type": "code",
   "execution_count": 18,
   "metadata": {
    "cell_id": "00003-f28a21fe-26dc-490f-8c77-dd48fb71f965",
    "deepnote_cell_type": "code",
    "deepnote_to_be_reexecuted": false,
    "executionInfo": {
     "elapsed": 14033,
     "status": "ok",
     "timestamp": 1620073164697,
     "user": {
      "displayName": "Preston Yi Jie Ching",
      "photoUrl": "https://lh3.googleusercontent.com/a-/AOh14GgE24aQurCt__h8LsCP-a-d2qofaTondp2UdoR8=s64",
      "userId": "08097061841474620618"
     },
     "user_tz": 240
    },
    "execution_millis": 13723,
    "execution_start": 1619898286851,
    "id": "fMfWT_xEdBq0",
    "source_hash": "c3c6a7bd",
    "tags": []
   },
   "outputs": [],
   "source": [
    "# EC changed filepaths\n",
    "\n",
    "flooded_img = []\n",
    "nonflooded_img = []\n",
    "unlabeled_img = []\n",
    "\n",
    "for file in os.listdir('Labeled/Flooded/'):\n",
    "    image = Image.open(os.path.join('Labeled/Flooded/', file))\n",
    "    image = np.array(image.resize((1000,750)))\n",
    "    flooded_img.append(rotate_img(image))\n",
    "\n",
    "for file in os.listdir('Labeled/Non_Flooded/'):\n",
    "    image = Image.open(os.path.join('Labeled/Non_Flooded/', file))\n",
    "    image = np.array(image.resize((1000,750)))\n",
    "    nonflooded_img.append(rotate_img(image))\n",
    "    \n",
    "for file in os.listdir('Unlabeled/'):\n",
    "    image = Image.open(os.path.join('Unlabeled/', file))\n",
    "    image = np.array(image.resize((1000,750)))\n",
    "    unlabeled_img.append(rotate_img(image))\n",
    "    unlabeled_img.append(rotate_img(image))"
   ]
  },
  {
   "cell_type": "code",
   "execution_count": 19,
   "metadata": {
    "cell_id": "00004-3fda0281-edff-4618-b774-a3c656cde274",
    "colab": {
     "base_uri": "https://localhost:8080/"
    },
    "deepnote_cell_type": "code",
    "deepnote_to_be_reexecuted": false,
    "executionInfo": {
     "elapsed": 355,
     "status": "ok",
     "timestamp": 1620073168784,
     "user": {
      "displayName": "Preston Yi Jie Ching",
      "photoUrl": "https://lh3.googleusercontent.com/a-/AOh14GgE24aQurCt__h8LsCP-a-d2qofaTondp2UdoR8=s64",
      "userId": "08097061841474620618"
     },
     "user_tz": 240
    },
    "execution_millis": 8,
    "execution_start": 1619898300577,
    "id": "nydcYLB4dBq0",
    "outputId": "ce61bbff-4a24-43ba-9a4b-27ff2f68948e",
    "source_hash": "4c3ae8be",
    "tags": []
   },
   "outputs": [
    {
     "name": "stdout",
     "output_type": "stream",
     "text": [
      "Flooded Image Shape: (750, 1000, 3)\n",
      "Non_Flooded Image Shape: (750, 1000, 3)\n",
      "Unlabeled Image Shape: (750, 1000, 3)\n"
     ]
    }
   ],
   "source": [
    "print(\"Flooded Image Shape: {}\".format(flooded_img[0].shape))\n",
    "print(\"Non_Flooded Image Shape: {}\".format(nonflooded_img[0].shape))\n",
    "print(\"Unlabeled Image Shape: {}\".format(unlabeled_img[0].shape))"
   ]
  },
  {
   "cell_type": "code",
   "execution_count": 34,
   "metadata": {
    "cell_id": "00005-d2164925-ae97-4fb5-b45a-fe422616e348",
    "colab": {
     "base_uri": "https://localhost:8080/"
    },
    "deepnote_cell_type": "code",
    "deepnote_to_be_reexecuted": false,
    "executionInfo": {
     "elapsed": 949,
     "status": "ok",
     "timestamp": 1620075005435,
     "user": {
      "displayName": "Preston Yi Jie Ching",
      "photoUrl": "https://lh3.googleusercontent.com/a-/AOh14GgE24aQurCt__h8LsCP-a-d2qofaTondp2UdoR8=s64",
      "userId": "08097061841474620618"
     },
     "user_tz": 240
    },
    "execution_millis": 1557,
    "execution_start": 1619898300589,
    "id": "kv2c9I9adBq1",
    "outputId": "000f2ecd-a068-49e6-e611-60ea571e1d27",
    "source_hash": "1b602310",
    "tags": []
   },
   "outputs": [
    {
     "data": {
      "text/plain": [
       "(20, 750, 1000, 3)"
      ]
     },
     "execution_count": 34,
     "metadata": {
      "tags": []
     },
     "output_type": "execute_result"
    }
   ],
   "source": [
    "unlabeled_img = unlabeled_img / 255.\n",
    "data_img = np.vstack((np.array(flooded_img), np.array(nonflooded_img))) / 255.\n",
    "data_img.shape"
   ]
  },
  {
   "cell_type": "code",
   "execution_count": 35,
   "metadata": {
    "cell_id": "00006-f9101804-7fc7-48f6-bd37-099f914b9099",
    "colab": {
     "base_uri": "https://localhost:8080/"
    },
    "deepnote_cell_type": "code",
    "executionInfo": {
     "elapsed": 941,
     "status": "ok",
     "timestamp": 1620075013019,
     "user": {
      "displayName": "Preston Yi Jie Ching",
      "photoUrl": "https://lh3.googleusercontent.com/a-/AOh14GgE24aQurCt__h8LsCP-a-d2qofaTondp2UdoR8=s64",
      "userId": "08097061841474620618"
     },
     "user_tz": 240
    },
    "id": "aivZ3StSdBq1",
    "outputId": "3bea56de-fe5a-4485-f45b-320a93493ac8"
   },
   "outputs": [
    {
     "data": {
      "text/plain": [
       "(28, 750, 1000, 3)"
      ]
     },
     "execution_count": 35,
     "metadata": {
      "tags": []
     },
     "output_type": "execute_result"
    }
   ],
   "source": [
    "unlabeled_img = np.array(unlabeled_img)\n",
    "unlabeled_img.shape"
   ]
  },
  {
   "cell_type": "code",
   "execution_count": 36,
   "metadata": {
    "cell_id": "00007-d8c78230-8c7e-4234-931e-5fb8db57ff95",
    "colab": {
     "base_uri": "https://localhost:8080/"
    },
    "deepnote_cell_type": "code",
    "deepnote_to_be_reexecuted": false,
    "executionInfo": {
     "elapsed": 158,
     "status": "ok",
     "timestamp": 1620075014011,
     "user": {
      "displayName": "Preston Yi Jie Ching",
      "photoUrl": "https://lh3.googleusercontent.com/a-/AOh14GgE24aQurCt__h8LsCP-a-d2qofaTondp2UdoR8=s64",
      "userId": "08097061841474620618"
     },
     "user_tz": 240
    },
    "execution_millis": 24,
    "execution_start": 1619898302142,
    "id": "x8wvQIgOdBq2",
    "outputId": "c476a57d-324b-4f01-bf50-4aa92c7ec9e0",
    "source_hash": "fbd555a7",
    "tags": []
   },
   "outputs": [
    {
     "name": "stdout",
     "output_type": "stream",
     "text": [
      "Training Index: [ 0  1  2  3  4  5  6 10 11 12 13 14 15 16]\n",
      "Testing Labeled Index: [ 7  8 17 18]\n",
      "Testing Unlabeled Index: [ 9 19]\n"
     ]
    }
   ],
   "source": [
    "train_idx = np.array([np.arange(7),np.arange(10,17)]).flatten()\n",
    "test_labeled_idx = np.array([np.arange(7,9),np.arange(17,19)]).flatten()\n",
    "test_unlabeled_idx = np.array([9,19]).flatten()\n",
    "print(\"Training Index: {}\".format(train_idx))\n",
    "print(\"Testing Labeled Index: {}\".format(test_labeled_idx))\n",
    "print(\"Testing Unlabeled Index: {}\".format(test_unlabeled_idx))"
   ]
  },
  {
   "cell_type": "markdown",
   "metadata": {
    "cell_id": "00008-7fe16d8e-5950-48c4-ad56-f4cd167e1264",
    "deepnote_cell_type": "markdown",
    "id": "mO5fe_gTdBq2",
    "tags": []
   },
   "source": [
    "### Example Tensorflow CNN Code\n",
    "\n",
    "Source: [Link1](https://medium.com/data-science-group-iitr/building-a-convolutional-neural-network-in-python-with-tensorflow-d251c3ca8117), [Link2] (https://www.datacamp.com/community/tutorials/cnn-tensorflow-python)"
   ]
  },
  {
   "cell_type": "markdown",
   "metadata": {
    "cell_id": "00009-21512be1-f336-43d4-b590-5aa99bcb9798",
    "deepnote_cell_type": "markdown",
    "id": "VXyV8RdedBq3",
    "tags": []
   },
   "source": [
    "##### Helper functions for building CNN"
   ]
  },
  {
   "cell_type": "code",
   "execution_count": 23,
   "metadata": {
    "cell_id": "00010-751dce48-7a7e-4e67-9854-698e3fc254ae",
    "deepnote_cell_type": "code",
    "deepnote_to_be_reexecuted": false,
    "executionInfo": {
     "elapsed": 188,
     "status": "ok",
     "timestamp": 1620073177233,
     "user": {
      "displayName": "Preston Yi Jie Ching",
      "photoUrl": "https://lh3.googleusercontent.com/a-/AOh14GgE24aQurCt__h8LsCP-a-d2qofaTondp2UdoR8=s64",
      "userId": "08097061841474620618"
     },
     "user_tz": 240
    },
    "execution_millis": 35,
    "execution_start": 1619898302162,
    "id": "ee-0xl6JdBq3",
    "source_hash": "72b90937",
    "tags": []
   },
   "outputs": [],
   "source": [
    "# convolutional layer\n",
    "def conv_layer(x, shape):\n",
    "\n",
    "    weights = tf.Variable(tf.truncated_normal(shape, stddev=0.05))\n",
    "    bias = tf.Variable(tf.constant(0.05, shape=[shape[-1]]))\n",
    "\n",
    "    out = tf.nn.conv2d(input=x, filters=weights, strides=[1,1,1,1], padding='SAME')\n",
    "    out += bias\n",
    "    return out\n",
    "\n",
    "# pooling layer\n",
    "def max_pool(x, k=2):\n",
    "\n",
    "    out = tf.nn.max_pool(value=x, ksize=[1, k, k, 1], strides=[1, k, k, 1], padding='SAME')\n",
    "    return out\n",
    "\n",
    "# fully connected layer\n",
    "def fully_connected_layer(x, shape):\n",
    "\n",
    "    weights = tf.Variable(tf.truncated_normal(shape, stddev=0.05))\n",
    "    bias = tf.Variable(tf.constant(0.05, shape=[shape[1]]))\n",
    "\n",
    "    out = tf.matmul(a=x, b=weights)\n",
    "    out += bias\n",
    "    return out\n",
    "\n",
    "# flatten layer\n",
    "def flatten_layer(x):\n",
    "    \n",
    "    size = x.get_shape()[1:4].num_elements()\n",
    "    out = tf.reshape(x, [-1,size])\n",
    "    return out, size\n",
    "\n",
    "# relu\n",
    "relu = lambda x: tf.nn.relu(features=x)\n",
    "\n",
    "# softmax\n",
    "softmax = lambda x: tf.nn.softmax(logits=x)"
   ]
  },
  {
   "cell_type": "markdown",
   "metadata": {
    "cell_id": "00011-09e302f8-44c3-4a30-ad0b-c87886f0f9b2",
    "deepnote_cell_type": "markdown",
    "id": "PaT30l4udBq3",
    "tags": []
   },
   "source": [
    "##### Define toy CNN"
   ]
  },
  {
   "cell_type": "code",
   "execution_count": 24,
   "metadata": {
    "cell_id": "00012-f7d1bc77-68ed-4f5c-b05d-988cafc68b9a",
    "deepnote_cell_type": "code",
    "deepnote_to_be_reexecuted": false,
    "executionInfo": {
     "elapsed": 315,
     "status": "ok",
     "timestamp": 1620073180434,
     "user": {
      "displayName": "Preston Yi Jie Ching",
      "photoUrl": "https://lh3.googleusercontent.com/a-/AOh14GgE24aQurCt__h8LsCP-a-d2qofaTondp2UdoR8=s64",
      "userId": "08097061841474620618"
     },
     "user_tz": 240
    },
    "execution_millis": 22,
    "execution_start": 1619898302207,
    "id": "M--onB_udBq4",
    "source_hash": "d1b93e81",
    "tags": []
   },
   "outputs": [],
   "source": [
    "#shape = [filter_size, filter_size, num_input_channels, num_filters]\n",
    "\n",
    "# define CNN\n",
    "def toy_model(x):\n",
    "\n",
    "    # three convolutional layers with max pool\n",
    "    shape0 = [5, 5, 3, 3]\n",
    "    conv0 = conv_layer(x, shape0)\n",
    "    conv0 = max_pool(conv0, k=2)\n",
    "\n",
    "    shape1 = [5, 5, 3, 1]\n",
    "    conv1 = conv_layer(conv0, shape1)\n",
    "    conv1 = max_pool(conv1, k=2)\n",
    "\n",
    "    shape2 = [5, 5, 1, 1]\n",
    "    conv2 = conv_layer(conv1, shape2)\n",
    "    conv2 = max_pool(conv2, k=2)\n",
    "\n",
    "    # flatten output and put through a fully connected layer\n",
    "    flat1, size1 = flatten_layer(conv2)\n",
    "    fc1 = fully_connected_layer(flat1, [size1, 64])\n",
    "    fc1 = relu(fc1)\n",
    "\n",
    "    fc2 = fully_connected_layer(fc1, [64, 1])\n",
    "    out = softmax(fc2)\n",
    "\n",
    "    return out"
   ]
  },
  {
   "cell_type": "markdown",
   "metadata": {
    "cell_id": "00013-23660aa8-b9da-43d0-b34f-58bbc1ff5858",
    "deepnote_cell_type": "markdown",
    "id": "DiWnwftZdBq4",
    "tags": []
   },
   "source": [
    "##### Build model with placeholder tensors"
   ]
  },
  {
   "cell_type": "code",
   "execution_count": 29,
   "metadata": {
    "cell_id": "00014-f4767041-7a0b-4353-9844-7aab13d988d6",
    "deepnote_cell_type": "code",
    "deepnote_to_be_reexecuted": false,
    "executionInfo": {
     "elapsed": 180,
     "status": "ok",
     "timestamp": 1620073625947,
     "user": {
      "displayName": "Preston Yi Jie Ching",
      "photoUrl": "https://lh3.googleusercontent.com/a-/AOh14GgE24aQurCt__h8LsCP-a-d2qofaTondp2UdoR8=s64",
      "userId": "08097061841474620618"
     },
     "user_tz": 240
    },
    "execution_millis": 1,
    "execution_start": 1619901094343,
    "id": "zyVcZ70fdBq4",
    "source_hash": "8a35242a",
    "tags": []
   },
   "outputs": [],
   "source": [
    "def generate_guess_label(pred_u_raw, k):\n",
    "    # guess label = average prediction over k augmentations of same image\n",
    "    # num_images = pred_u_raw.shape[0].value / k # Throws error of NoneType and int since pred_u_raw.shape[0].value is None\n",
    "    \n",
    "    try:\n",
    "      num_images = int(pred_u_raw.shape[0].value / k)\n",
    "\n",
    "      idx = 0\n",
    "      temp_labels = []\n",
    "      for i in range(num_images):\n",
    "          temp_labels.append(tf.reduce_mean(pred_u_raw[idx:idx+k]))\n",
    "          idx += k\n",
    "\n",
    "      # repeat label for each augmentation\n",
    "      guess_labels = tf.repeat(tf.stack(temp_labels), k)\n",
    "\n",
    "      # reshape and remove gradient tracking\n",
    "      guess_labels = tf.reshape(guess_labels, (-1,1))\n",
    "      guess_labels = tf.stop_gradient(guess_labels)\n",
    "\n",
    "      return guess_labels\n",
    "\n",
    "    except TypeError:\n",
    "      \n",
    "      return pred_u_raw\n",
    "\n",
    "    "
   ]
  },
  {
   "cell_type": "code",
   "execution_count": 37,
   "metadata": {
    "cell_id": "00015-90cce5e3-2fcd-419e-80ea-41c0c704c2e5",
    "deepnote_cell_type": "code",
    "deepnote_to_be_reexecuted": false,
    "executionInfo": {
     "elapsed": 719,
     "status": "ok",
     "timestamp": 1620075019567,
     "user": {
      "displayName": "Preston Yi Jie Ching",
      "photoUrl": "https://lh3.googleusercontent.com/a-/AOh14GgE24aQurCt__h8LsCP-a-d2qofaTondp2UdoR8=s64",
      "userId": "08097061841474620618"
     },
     "user_tz": 240
    },
    "execution_millis": 332,
    "execution_start": 1619790915078,
    "id": "o7KDamRsdBq5",
    "source_hash": "12d95de3",
    "tags": []
   },
   "outputs": [],
   "source": [
    "# define inputs\n",
    "hdim = data_img[0].shape[0]\n",
    "vdim = data_img[0].shape[1]\n",
    "x = tf.placeholder(tf.float32, [None, hdim, vdim, 3]) # labeled images (augmented)\n",
    "u = tf.placeholder(tf.float32, [None, hdim, vdim, 3]) # unlabeled images (augmented)\n",
    "y = tf.placeholder(tf.float32, [None, 1]) # labels\n",
    "y_train_true = np.array([np.ones(7),np.zeros(7)]).reshape(-1,1)\n",
    "y_test_true = np.array([np.ones(2),np.zeros(2)]).reshape(-1,1)\n",
    "k = 2 # augment images k times\n",
    "\n",
    "# Google paper section 3.5 says 100 is a good place to start for w_unlabeled\n",
    "# Google paper also suggests ramping up value to 100 over first 16,000 epochs\n",
    "w_unlabeled = 100. \n",
    "\n",
    "# run model with placeholder tensors\n",
    "pred_x = toy_model(x)\n",
    "pred_u_raw = toy_model(u)\n",
    "\n",
    "# calculate guess labels for unlabeled images \n",
    "pred_u = generate_guess_label(pred_u_raw, k)\n",
    "\n",
    "# sharpen guess labels here? is this necessary for only 2 classes?\n",
    "\n",
    "# define loss\n",
    "cross_entropy = tf.nn.softmax_cross_entropy_with_logits(logits=pred_x, labels=y)\n",
    "labeled_loss = tf.reduce_mean(cross_entropy)\n",
    "unlabeled_loss = tf.nn.l2_loss(pred_u - pred_u_raw)\n",
    "cost = labeled_loss + w_unlabeled*unlabeled_loss\n",
    "\n",
    "# define accuracy\n",
    "pred_correct = tf.equal(tf.argmax(pred_x, 1), tf.argmax(y, 1))\n",
    "accuracy = tf.reduce_mean(tf.cast(pred_correct, tf.float32))\n",
    "\n",
    "# define optimizer\n",
    "optimizer = tf.train.AdamOptimizer(learning_rate=1e-4).minimize(cost)\n",
    "\n",
    "# initialize variables\n",
    "init = tf.global_variables_initializer()\n",
    "training_iters = 3\n",
    "batch_size = len(train_idx)"
   ]
  },
  {
   "cell_type": "markdown",
   "metadata": {
    "cell_id": "00016-693afa6c-313d-4e6e-bfe9-60a40af85f80",
    "deepnote_cell_type": "markdown",
    "id": "99fUDMv-dBq5",
    "tags": []
   },
   "source": [
    "##### Train model"
   ]
  },
  {
   "cell_type": "code",
   "execution_count": 38,
   "metadata": {
    "cell_id": "00017-4ac62c71-3bc6-45e8-a18c-960c7c67ffc6",
    "colab": {
     "base_uri": "https://localhost:8080/"
    },
    "deepnote_cell_type": "code",
    "deepnote_to_be_reexecuted": false,
    "executionInfo": {
     "elapsed": 96900,
     "status": "ok",
     "timestamp": 1620075118074,
     "user": {
      "displayName": "Preston Yi Jie Ching",
      "photoUrl": "https://lh3.googleusercontent.com/a-/AOh14GgE24aQurCt__h8LsCP-a-d2qofaTondp2UdoR8=s64",
      "userId": "08097061841474620618"
     },
     "user_tz": 240
    },
    "execution_millis": 1408,
    "execution_start": 1619790916591,
    "id": "h_tQvfqndBq6",
    "outputId": "c04c5a4b-74a3-480a-8dc5-39e2fa2c89af",
    "source_hash": "436c2d26",
    "tags": []
   },
   "outputs": [
    {
     "name": "stdout",
     "output_type": "stream",
     "text": [
      "Iter 0, Loss= 0.000000, Training Accuracy= 1.00000\n",
      "Testing Accuracy: 1.00000\n",
      "Iter 1, Loss= 0.000000, Training Accuracy= 1.00000\n",
      "Testing Accuracy: 1.00000\n",
      "Iter 2, Loss= 0.000000, Training Accuracy= 1.00000\n",
      "Testing Accuracy: 1.00000\n"
     ]
    }
   ],
   "source": [
    "# train model\n",
    "with tf.Session() as sess:\n",
    "    sess.run(init)\n",
    "    train_loss = []\n",
    "    test_loss = []\n",
    "    train_accuracy = []\n",
    "    test_accuracy = []\n",
    "    summary_writer = tf.summary.FileWriter('./Output', sess.graph)\n",
    "    \n",
    "    for i in range(training_iters):\n",
    "   \n",
    "        # Run optimization \n",
    "        # Calculate batch loss and accuracy\n",
    "        for batch in range(len(train_idx)//batch_size):\n",
    "            batch_x = data_img[train_idx,:,:,:][batch*batch_size:min((batch+1)*batch_size, len(train_idx))]\n",
    "            batch_u = unlabeled_img[:,:,:,:][batch*k*batch_size:min((batch+1)*k*batch_size, unlabeled_img.shape[0])]\n",
    "            batch_y = y_train_true[batch*batch_size:min((batch+1)*batch_size, len(y_train_true))]   \n",
    "\n",
    "            feed_dict={x: batch_x, u: batch_u, y: batch_y}\n",
    "            opt = sess.run(optimizer, feed_dict=feed_dict)\n",
    "            loss, acc = sess.run([cost, accuracy], feed_dict=feed_dict)\n",
    "\n",
    "        print(\"Iter \" + str(i) + \", Loss= \" + \\\n",
    "                      \"{:.6f}\".format(loss) + \", Training Accuracy= \" + \\\n",
    "                      \"{:.5f}\".format(acc))\n",
    "\n",
    "        # Calculate accuracy for all test images\n",
    "        test_acc,valid_loss = sess.run([accuracy,cost],\n",
    "                                feed_dict={x: data_img[test_labeled_idx,:,:,:], u: data_img[test_unlabeled_idx,:,:,:], y : y_test_true})\n",
    "        train_loss.append(loss)\n",
    "        test_loss.append(valid_loss)\n",
    "        train_accuracy.append(acc)\n",
    "        test_accuracy.append(test_acc)\n",
    "        print(\"Testing Accuracy:\",\"{:.5f}\".format(test_acc))\n",
    "    summary_writer.close()"
   ]
  },
  {
   "cell_type": "code",
   "execution_count": null,
   "metadata": {
    "id": "l9MerXx5_wM8"
   },
   "outputs": [],
   "source": []
  }
 ],
 "metadata": {
  "colab": {
   "collapsed_sections": [],
   "name": "CNN_semisupervised.ipynb",
   "provenance": []
  },
  "deepnote": {
   "is_reactive": false
  },
  "deepnote_execution_queue": [],
  "deepnote_notebook_id": "f05e3563-f59e-463d-8958-436be9264453",
  "kernelspec": {
   "display_name": "Python 3",
   "language": "python",
   "name": "python3"
  },
  "language_info": {
   "codemirror_mode": {
    "name": "ipython",
    "version": 3
   },
   "file_extension": ".py",
   "mimetype": "text/x-python",
   "name": "python",
   "nbconvert_exporter": "python",
   "pygments_lexer": "ipython3",
   "version": "3.6.9"
  }
 },
 "nbformat": 4,
 "nbformat_minor": 1
}
